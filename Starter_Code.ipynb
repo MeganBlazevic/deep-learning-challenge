{
  "cells": [
    {
      "cell_type": "markdown",
      "metadata": {
        "id": "view-in-github",
        "colab_type": "text"
      },
      "source": [
        "<a href=\"https://colab.research.google.com/github/MeganBlazevic/deep-learning-challenge/blob/main/Starter_Code.ipynb\" target=\"_parent\"><img src=\"https://colab.research.google.com/assets/colab-badge.svg\" alt=\"Open In Colab\"/></a>"
      ]
    },
    {
      "cell_type": "markdown",
      "metadata": {
        "id": "m9ST6w8j5es1"
      },
      "source": [
        "## Preprocessing"
      ]
    },
    {
      "cell_type": "code",
      "source": [
        "# URL for csv file\n",
        "url = \"https://raw.githubusercontent.com/MeganBlazevic/deep-learning-challenge/main/Resources/charity_data.csv\""
      ],
      "metadata": {
        "id": "2HxzmrR97Reg"
      },
      "execution_count": null,
      "outputs": []
    },
    {
      "cell_type": "code",
      "execution_count": null,
      "metadata": {
        "colab": {
          "base_uri": "https://localhost:8080/",
          "height": 206
        },
        "id": "0E7hU6ut5es5",
        "outputId": "18c0cfdc-9656-485c-ba10-4df40d943000"
      },
      "outputs": [
        {
          "output_type": "execute_result",
          "data": {
            "text/plain": [
              "        EIN                                      NAME APPLICATION_TYPE  \\\n",
              "0  10520599              BLUE KNIGHTS MOTORCYCLE CLUB              T10   \n",
              "1  10531628    AMERICAN CHESAPEAKE CLUB CHARITABLE TR               T3   \n",
              "2  10547893        ST CLOUD PROFESSIONAL FIREFIGHTERS               T5   \n",
              "3  10553066            SOUTHSIDE ATHLETIC ASSOCIATION               T3   \n",
              "4  10556103  GENETIC RESEARCH INSTITUTE OF THE DESERT               T3   \n",
              "\n",
              "        AFFILIATION CLASSIFICATION      USE_CASE  ORGANIZATION  STATUS  \\\n",
              "0       Independent          C1000    ProductDev   Association       1   \n",
              "1       Independent          C2000  Preservation  Co-operative       1   \n",
              "2  CompanySponsored          C3000    ProductDev   Association       1   \n",
              "3  CompanySponsored          C2000  Preservation         Trust       1   \n",
              "4       Independent          C1000     Heathcare         Trust       1   \n",
              "\n",
              "      INCOME_AMT SPECIAL_CONSIDERATIONS  ASK_AMT  IS_SUCCESSFUL  \n",
              "0              0                      N     5000              1  \n",
              "1         1-9999                      N   108590              1  \n",
              "2              0                      N     5000              0  \n",
              "3    10000-24999                      N     6692              1  \n",
              "4  100000-499999                      N   142590              1  "
            ],
            "text/html": [
              "\n",
              "  <div id=\"df-f4faedb8-7442-426f-9f8a-4ea6eaf81d8f\">\n",
              "    <div class=\"colab-df-container\">\n",
              "      <div>\n",
              "<style scoped>\n",
              "    .dataframe tbody tr th:only-of-type {\n",
              "        vertical-align: middle;\n",
              "    }\n",
              "\n",
              "    .dataframe tbody tr th {\n",
              "        vertical-align: top;\n",
              "    }\n",
              "\n",
              "    .dataframe thead th {\n",
              "        text-align: right;\n",
              "    }\n",
              "</style>\n",
              "<table border=\"1\" class=\"dataframe\">\n",
              "  <thead>\n",
              "    <tr style=\"text-align: right;\">\n",
              "      <th></th>\n",
              "      <th>EIN</th>\n",
              "      <th>NAME</th>\n",
              "      <th>APPLICATION_TYPE</th>\n",
              "      <th>AFFILIATION</th>\n",
              "      <th>CLASSIFICATION</th>\n",
              "      <th>USE_CASE</th>\n",
              "      <th>ORGANIZATION</th>\n",
              "      <th>STATUS</th>\n",
              "      <th>INCOME_AMT</th>\n",
              "      <th>SPECIAL_CONSIDERATIONS</th>\n",
              "      <th>ASK_AMT</th>\n",
              "      <th>IS_SUCCESSFUL</th>\n",
              "    </tr>\n",
              "  </thead>\n",
              "  <tbody>\n",
              "    <tr>\n",
              "      <th>0</th>\n",
              "      <td>10520599</td>\n",
              "      <td>BLUE KNIGHTS MOTORCYCLE CLUB</td>\n",
              "      <td>T10</td>\n",
              "      <td>Independent</td>\n",
              "      <td>C1000</td>\n",
              "      <td>ProductDev</td>\n",
              "      <td>Association</td>\n",
              "      <td>1</td>\n",
              "      <td>0</td>\n",
              "      <td>N</td>\n",
              "      <td>5000</td>\n",
              "      <td>1</td>\n",
              "    </tr>\n",
              "    <tr>\n",
              "      <th>1</th>\n",
              "      <td>10531628</td>\n",
              "      <td>AMERICAN CHESAPEAKE CLUB CHARITABLE TR</td>\n",
              "      <td>T3</td>\n",
              "      <td>Independent</td>\n",
              "      <td>C2000</td>\n",
              "      <td>Preservation</td>\n",
              "      <td>Co-operative</td>\n",
              "      <td>1</td>\n",
              "      <td>1-9999</td>\n",
              "      <td>N</td>\n",
              "      <td>108590</td>\n",
              "      <td>1</td>\n",
              "    </tr>\n",
              "    <tr>\n",
              "      <th>2</th>\n",
              "      <td>10547893</td>\n",
              "      <td>ST CLOUD PROFESSIONAL FIREFIGHTERS</td>\n",
              "      <td>T5</td>\n",
              "      <td>CompanySponsored</td>\n",
              "      <td>C3000</td>\n",
              "      <td>ProductDev</td>\n",
              "      <td>Association</td>\n",
              "      <td>1</td>\n",
              "      <td>0</td>\n",
              "      <td>N</td>\n",
              "      <td>5000</td>\n",
              "      <td>0</td>\n",
              "    </tr>\n",
              "    <tr>\n",
              "      <th>3</th>\n",
              "      <td>10553066</td>\n",
              "      <td>SOUTHSIDE ATHLETIC ASSOCIATION</td>\n",
              "      <td>T3</td>\n",
              "      <td>CompanySponsored</td>\n",
              "      <td>C2000</td>\n",
              "      <td>Preservation</td>\n",
              "      <td>Trust</td>\n",
              "      <td>1</td>\n",
              "      <td>10000-24999</td>\n",
              "      <td>N</td>\n",
              "      <td>6692</td>\n",
              "      <td>1</td>\n",
              "    </tr>\n",
              "    <tr>\n",
              "      <th>4</th>\n",
              "      <td>10556103</td>\n",
              "      <td>GENETIC RESEARCH INSTITUTE OF THE DESERT</td>\n",
              "      <td>T3</td>\n",
              "      <td>Independent</td>\n",
              "      <td>C1000</td>\n",
              "      <td>Heathcare</td>\n",
              "      <td>Trust</td>\n",
              "      <td>1</td>\n",
              "      <td>100000-499999</td>\n",
              "      <td>N</td>\n",
              "      <td>142590</td>\n",
              "      <td>1</td>\n",
              "    </tr>\n",
              "  </tbody>\n",
              "</table>\n",
              "</div>\n",
              "      <button class=\"colab-df-convert\" onclick=\"convertToInteractive('df-f4faedb8-7442-426f-9f8a-4ea6eaf81d8f')\"\n",
              "              title=\"Convert this dataframe to an interactive table.\"\n",
              "              style=\"display:none;\">\n",
              "        \n",
              "  <svg xmlns=\"http://www.w3.org/2000/svg\" height=\"24px\"viewBox=\"0 0 24 24\"\n",
              "       width=\"24px\">\n",
              "    <path d=\"M0 0h24v24H0V0z\" fill=\"none\"/>\n",
              "    <path d=\"M18.56 5.44l.94 2.06.94-2.06 2.06-.94-2.06-.94-.94-2.06-.94 2.06-2.06.94zm-11 1L8.5 8.5l.94-2.06 2.06-.94-2.06-.94L8.5 2.5l-.94 2.06-2.06.94zm10 10l.94 2.06.94-2.06 2.06-.94-2.06-.94-.94-2.06-.94 2.06-2.06.94z\"/><path d=\"M17.41 7.96l-1.37-1.37c-.4-.4-.92-.59-1.43-.59-.52 0-1.04.2-1.43.59L10.3 9.45l-7.72 7.72c-.78.78-.78 2.05 0 2.83L4 21.41c.39.39.9.59 1.41.59.51 0 1.02-.2 1.41-.59l7.78-7.78 2.81-2.81c.8-.78.8-2.07 0-2.86zM5.41 20L4 18.59l7.72-7.72 1.47 1.35L5.41 20z\"/>\n",
              "  </svg>\n",
              "      </button>\n",
              "      \n",
              "  <style>\n",
              "    .colab-df-container {\n",
              "      display:flex;\n",
              "      flex-wrap:wrap;\n",
              "      gap: 12px;\n",
              "    }\n",
              "\n",
              "    .colab-df-convert {\n",
              "      background-color: #E8F0FE;\n",
              "      border: none;\n",
              "      border-radius: 50%;\n",
              "      cursor: pointer;\n",
              "      display: none;\n",
              "      fill: #1967D2;\n",
              "      height: 32px;\n",
              "      padding: 0 0 0 0;\n",
              "      width: 32px;\n",
              "    }\n",
              "\n",
              "    .colab-df-convert:hover {\n",
              "      background-color: #E2EBFA;\n",
              "      box-shadow: 0px 1px 2px rgba(60, 64, 67, 0.3), 0px 1px 3px 1px rgba(60, 64, 67, 0.15);\n",
              "      fill: #174EA6;\n",
              "    }\n",
              "\n",
              "    [theme=dark] .colab-df-convert {\n",
              "      background-color: #3B4455;\n",
              "      fill: #D2E3FC;\n",
              "    }\n",
              "\n",
              "    [theme=dark] .colab-df-convert:hover {\n",
              "      background-color: #434B5C;\n",
              "      box-shadow: 0px 1px 3px 1px rgba(0, 0, 0, 0.15);\n",
              "      filter: drop-shadow(0px 1px 2px rgba(0, 0, 0, 0.3));\n",
              "      fill: #FFFFFF;\n",
              "    }\n",
              "  </style>\n",
              "\n",
              "      <script>\n",
              "        const buttonEl =\n",
              "          document.querySelector('#df-f4faedb8-7442-426f-9f8a-4ea6eaf81d8f button.colab-df-convert');\n",
              "        buttonEl.style.display =\n",
              "          google.colab.kernel.accessAllowed ? 'block' : 'none';\n",
              "\n",
              "        async function convertToInteractive(key) {\n",
              "          const element = document.querySelector('#df-f4faedb8-7442-426f-9f8a-4ea6eaf81d8f');\n",
              "          const dataTable =\n",
              "            await google.colab.kernel.invokeFunction('convertToInteractive',\n",
              "                                                     [key], {});\n",
              "          if (!dataTable) return;\n",
              "\n",
              "          const docLinkHtml = 'Like what you see? Visit the ' +\n",
              "            '<a target=\"_blank\" href=https://colab.research.google.com/notebooks/data_table.ipynb>data table notebook</a>'\n",
              "            + ' to learn more about interactive tables.';\n",
              "          element.innerHTML = '';\n",
              "          dataTable['output_type'] = 'display_data';\n",
              "          await google.colab.output.renderOutput(dataTable, element);\n",
              "          const docLink = document.createElement('div');\n",
              "          docLink.innerHTML = docLinkHtml;\n",
              "          element.appendChild(docLink);\n",
              "        }\n",
              "      </script>\n",
              "    </div>\n",
              "  </div>\n",
              "  "
            ]
          },
          "metadata": {},
          "execution_count": 25
        }
      ],
      "source": [
        "# Import our dependencies\n",
        "from sklearn.model_selection import train_test_split\n",
        "from sklearn.preprocessing import StandardScaler\n",
        "import pandas as pd\n",
        "import tensorflow as tf\n",
        "\n",
        "#  Import and read the charity_data.csv.\n",
        "application_df = pd.read_csv(url)\n",
        "application_df.head()"
      ]
    },
    {
      "cell_type": "code",
      "execution_count": null,
      "metadata": {
        "id": "dHKZKkJf5es7"
      },
      "outputs": [],
      "source": [
        "# Drop the non-beneficial ID columns, 'EIN' and 'NAME'.\n",
        "application_df = application_df.drop(columns = ['EIN', 'NAME'])"
      ]
    },
    {
      "cell_type": "code",
      "execution_count": null,
      "metadata": {
        "colab": {
          "base_uri": "https://localhost:8080/"
        },
        "id": "djt3gla85es8",
        "outputId": "c6485d58-f0d5-4fc5-8d0a-14c9482aa7c9"
      },
      "outputs": [
        {
          "output_type": "stream",
          "name": "stdout",
          "text": [
            "APPLICATION_TYPE 17\n",
            "AFFILIATION 6\n",
            "CLASSIFICATION 71\n",
            "USE_CASE 5\n",
            "ORGANIZATION 4\n",
            "STATUS 2\n",
            "INCOME_AMT 9\n",
            "SPECIAL_CONSIDERATIONS 2\n",
            "ASK_AMT 8747\n",
            "IS_SUCCESSFUL 2\n"
          ]
        }
      ],
      "source": [
        "# Determine the number of unique values in each column.\n",
        "for x in application_df.columns:\n",
        "  print(x, len(application_df[x].unique()))"
      ]
    },
    {
      "cell_type": "code",
      "execution_count": null,
      "metadata": {
        "colab": {
          "base_uri": "https://localhost:8080/"
        },
        "id": "bJ8JnY0c5es8",
        "outputId": "1435dc58-df6d-48e6-95a5-64b6540d150a"
      },
      "outputs": [
        {
          "output_type": "execute_result",
          "data": {
            "text/plain": [
              "T3     27037\n",
              "T4      1542\n",
              "T6      1216\n",
              "T5      1173\n",
              "T19     1065\n",
              "T8       737\n",
              "T7       725\n",
              "T10      528\n",
              "T9       156\n",
              "T13       66\n",
              "T12       27\n",
              "T2        16\n",
              "T25        3\n",
              "T14        3\n",
              "T29        2\n",
              "T15        2\n",
              "T17        1\n",
              "Name: APPLICATION_TYPE, dtype: int64"
            ]
          },
          "metadata": {},
          "execution_count": 28
        }
      ],
      "source": [
        "# Look at APPLICATION_TYPE value counts for binning\n",
        "counts = application_df['APPLICATION_TYPE'].value_counts()\n",
        "counts"
      ]
    },
    {
      "cell_type": "code",
      "execution_count": null,
      "metadata": {
        "colab": {
          "base_uri": "https://localhost:8080/"
        },
        "id": "1aFGmCtN5es9",
        "outputId": "8ee069ea-8989-44e5-dd08-ae1b94b0527b"
      },
      "outputs": [
        {
          "output_type": "execute_result",
          "data": {
            "text/plain": [
              "T3       27037\n",
              "T4        1542\n",
              "T6        1216\n",
              "T5        1173\n",
              "T19       1065\n",
              "T8         737\n",
              "T7         725\n",
              "T10        528\n",
              "Other      276\n",
              "Name: APPLICATION_TYPE, dtype: int64"
            ]
          },
          "metadata": {},
          "execution_count": 29
        }
      ],
      "source": [
        "# Choose a cutoff value and create a list of application types to be replaced\n",
        "# use the variable name `application_types_to_replace`\n",
        "application_types_to_replace = list(counts[counts<500].index)\n",
        "application_types_to_replace\n",
        "\n",
        "# Replace in dataframe\n",
        "for app in application_types_to_replace:\n",
        "    application_df['APPLICATION_TYPE'] = application_df['APPLICATION_TYPE'].replace(app,\"Other\")\n",
        "\n",
        "# Check to make sure binning was successful\n",
        "application_df['APPLICATION_TYPE'].value_counts()"
      ]
    },
    {
      "cell_type": "code",
      "execution_count": null,
      "metadata": {
        "id": "EfMyaRPT5es9"
      },
      "outputs": [],
      "source": [
        "# Look at CLASSIFICATION value counts for binning\n",
        "count_binning = application_df['CLASSIFICATION'].value_counts()"
      ]
    },
    {
      "cell_type": "code",
      "execution_count": null,
      "metadata": {
        "colab": {
          "base_uri": "https://localhost:8080/"
        },
        "id": "xX5ml94j5es-",
        "outputId": "0db372b9-dd80-4c3c-e455-29ebd048efa1"
      },
      "outputs": [
        {
          "output_type": "execute_result",
          "data": {
            "text/plain": [
              "C1000    17326\n",
              "C2000     6074\n",
              "C1200     4837\n",
              "C3000     1918\n",
              "C2100     1883\n",
              "C7000      777\n",
              "C1700      287\n",
              "C4000      194\n",
              "C5000      116\n",
              "C1270      114\n",
              "C2700      104\n",
              "C2800       95\n",
              "C7100       75\n",
              "C1300       58\n",
              "C1280       50\n",
              "C1230       36\n",
              "C1400       34\n",
              "C7200       32\n",
              "C2300       32\n",
              "C1240       30\n",
              "C8000       20\n",
              "C7120       18\n",
              "C1500       16\n",
              "C1800       15\n",
              "C6000       15\n",
              "C1250       14\n",
              "C8200       11\n",
              "C1238       10\n",
              "C1278       10\n",
              "C1235        9\n",
              "C1237        9\n",
              "C7210        7\n",
              "C2400        6\n",
              "C1720        6\n",
              "C4100        6\n",
              "C1257        5\n",
              "C1600        5\n",
              "C1260        3\n",
              "C2710        3\n",
              "C0           3\n",
              "C3200        2\n",
              "C1234        2\n",
              "C1246        2\n",
              "C1267        2\n",
              "C1256        2\n",
              "Name: CLASSIFICATION, dtype: int64"
            ]
          },
          "metadata": {},
          "execution_count": 31
        }
      ],
      "source": [
        "# You may find it helpful to look at CLASSIFICATION value counts >1\n",
        "classification_types_to_replace = count_binning[count_binning > 1]\n",
        "classification_types_to_replace"
      ]
    },
    {
      "cell_type": "code",
      "execution_count": null,
      "metadata": {
        "colab": {
          "base_uri": "https://localhost:8080/"
        },
        "id": "ivY9zNeX5es-",
        "outputId": "72d8f1ed-88db-4685-e4bf-b6ff6ac22214"
      },
      "outputs": [
        {
          "output_type": "execute_result",
          "data": {
            "text/plain": [
              "C1000    17326\n",
              "C2000     6074\n",
              "C1200     4837\n",
              "C3000     1918\n",
              "C2100     1883\n",
              "C7000      777\n",
              "Other      669\n",
              "C1700      287\n",
              "C4000      194\n",
              "C5000      116\n",
              "C1270      114\n",
              "C2700      104\n",
              "Name: CLASSIFICATION, dtype: int64"
            ]
          },
          "metadata": {},
          "execution_count": 32
        }
      ],
      "source": [
        "# Choose a cutoff value and create a list of classifications to be replaced\n",
        "# use the variable name `classifications_to_replace`\n",
        "classifications_to_replace = list(count_binning[count_binning < 100].index)\n",
        "\n",
        "# Replace in dataframe\n",
        "for cls in classifications_to_replace:\n",
        "    application_df['CLASSIFICATION'] = application_df['CLASSIFICATION'].replace(cls,\"Other\")\n",
        "    \n",
        "# Check to make sure binning was successful\n",
        "application_df['CLASSIFICATION'].value_counts()"
      ]
    },
    {
      "cell_type": "code",
      "execution_count": null,
      "metadata": {
        "colab": {
          "base_uri": "https://localhost:8080/",
          "height": 317
        },
        "id": "CHQ6wXXJ5es_",
        "outputId": "43405d18-521d-4cd5-cb2f-6029f6c0b080"
      },
      "outputs": [
        {
          "output_type": "execute_result",
          "data": {
            "text/plain": [
              "   STATUS  ASK_AMT  IS_SUCCESSFUL  APPLICATION_TYPE_Other  \\\n",
              "0       1     5000              1                       0   \n",
              "1       1   108590              1                       0   \n",
              "2       1     5000              0                       0   \n",
              "3       1     6692              1                       0   \n",
              "4       1   142590              1                       0   \n",
              "\n",
              "   APPLICATION_TYPE_T10  APPLICATION_TYPE_T19  APPLICATION_TYPE_T3  \\\n",
              "0                     1                     0                    0   \n",
              "1                     0                     0                    1   \n",
              "2                     0                     0                    0   \n",
              "3                     0                     0                    1   \n",
              "4                     0                     0                    1   \n",
              "\n",
              "   APPLICATION_TYPE_T4  APPLICATION_TYPE_T5  APPLICATION_TYPE_T6  ...  \\\n",
              "0                    0                    0                    0  ...   \n",
              "1                    0                    0                    0  ...   \n",
              "2                    0                    1                    0  ...   \n",
              "3                    0                    0                    0  ...   \n",
              "4                    0                    0                    0  ...   \n",
              "\n",
              "   INCOME_AMT_1-9999  INCOME_AMT_10000-24999  INCOME_AMT_100000-499999  \\\n",
              "0                  0                       0                         0   \n",
              "1                  1                       0                         0   \n",
              "2                  0                       0                         0   \n",
              "3                  0                       1                         0   \n",
              "4                  0                       0                         1   \n",
              "\n",
              "   INCOME_AMT_10M-50M  INCOME_AMT_1M-5M  INCOME_AMT_25000-99999  \\\n",
              "0                   0                 0                       0   \n",
              "1                   0                 0                       0   \n",
              "2                   0                 0                       0   \n",
              "3                   0                 0                       0   \n",
              "4                   0                 0                       0   \n",
              "\n",
              "   INCOME_AMT_50M+  INCOME_AMT_5M-10M  SPECIAL_CONSIDERATIONS_N  \\\n",
              "0                0                  0                         1   \n",
              "1                0                  0                         1   \n",
              "2                0                  0                         1   \n",
              "3                0                  0                         1   \n",
              "4                0                  0                         1   \n",
              "\n",
              "   SPECIAL_CONSIDERATIONS_Y  \n",
              "0                         0  \n",
              "1                         0  \n",
              "2                         0  \n",
              "3                         0  \n",
              "4                         0  \n",
              "\n",
              "[5 rows x 50 columns]"
            ],
            "text/html": [
              "\n",
              "  <div id=\"df-286dd643-226c-4d01-8dc7-213ec4b2a5f6\">\n",
              "    <div class=\"colab-df-container\">\n",
              "      <div>\n",
              "<style scoped>\n",
              "    .dataframe tbody tr th:only-of-type {\n",
              "        vertical-align: middle;\n",
              "    }\n",
              "\n",
              "    .dataframe tbody tr th {\n",
              "        vertical-align: top;\n",
              "    }\n",
              "\n",
              "    .dataframe thead th {\n",
              "        text-align: right;\n",
              "    }\n",
              "</style>\n",
              "<table border=\"1\" class=\"dataframe\">\n",
              "  <thead>\n",
              "    <tr style=\"text-align: right;\">\n",
              "      <th></th>\n",
              "      <th>STATUS</th>\n",
              "      <th>ASK_AMT</th>\n",
              "      <th>IS_SUCCESSFUL</th>\n",
              "      <th>APPLICATION_TYPE_Other</th>\n",
              "      <th>APPLICATION_TYPE_T10</th>\n",
              "      <th>APPLICATION_TYPE_T19</th>\n",
              "      <th>APPLICATION_TYPE_T3</th>\n",
              "      <th>APPLICATION_TYPE_T4</th>\n",
              "      <th>APPLICATION_TYPE_T5</th>\n",
              "      <th>APPLICATION_TYPE_T6</th>\n",
              "      <th>...</th>\n",
              "      <th>INCOME_AMT_1-9999</th>\n",
              "      <th>INCOME_AMT_10000-24999</th>\n",
              "      <th>INCOME_AMT_100000-499999</th>\n",
              "      <th>INCOME_AMT_10M-50M</th>\n",
              "      <th>INCOME_AMT_1M-5M</th>\n",
              "      <th>INCOME_AMT_25000-99999</th>\n",
              "      <th>INCOME_AMT_50M+</th>\n",
              "      <th>INCOME_AMT_5M-10M</th>\n",
              "      <th>SPECIAL_CONSIDERATIONS_N</th>\n",
              "      <th>SPECIAL_CONSIDERATIONS_Y</th>\n",
              "    </tr>\n",
              "  </thead>\n",
              "  <tbody>\n",
              "    <tr>\n",
              "      <th>0</th>\n",
              "      <td>1</td>\n",
              "      <td>5000</td>\n",
              "      <td>1</td>\n",
              "      <td>0</td>\n",
              "      <td>1</td>\n",
              "      <td>0</td>\n",
              "      <td>0</td>\n",
              "      <td>0</td>\n",
              "      <td>0</td>\n",
              "      <td>0</td>\n",
              "      <td>...</td>\n",
              "      <td>0</td>\n",
              "      <td>0</td>\n",
              "      <td>0</td>\n",
              "      <td>0</td>\n",
              "      <td>0</td>\n",
              "      <td>0</td>\n",
              "      <td>0</td>\n",
              "      <td>0</td>\n",
              "      <td>1</td>\n",
              "      <td>0</td>\n",
              "    </tr>\n",
              "    <tr>\n",
              "      <th>1</th>\n",
              "      <td>1</td>\n",
              "      <td>108590</td>\n",
              "      <td>1</td>\n",
              "      <td>0</td>\n",
              "      <td>0</td>\n",
              "      <td>0</td>\n",
              "      <td>1</td>\n",
              "      <td>0</td>\n",
              "      <td>0</td>\n",
              "      <td>0</td>\n",
              "      <td>...</td>\n",
              "      <td>1</td>\n",
              "      <td>0</td>\n",
              "      <td>0</td>\n",
              "      <td>0</td>\n",
              "      <td>0</td>\n",
              "      <td>0</td>\n",
              "      <td>0</td>\n",
              "      <td>0</td>\n",
              "      <td>1</td>\n",
              "      <td>0</td>\n",
              "    </tr>\n",
              "    <tr>\n",
              "      <th>2</th>\n",
              "      <td>1</td>\n",
              "      <td>5000</td>\n",
              "      <td>0</td>\n",
              "      <td>0</td>\n",
              "      <td>0</td>\n",
              "      <td>0</td>\n",
              "      <td>0</td>\n",
              "      <td>0</td>\n",
              "      <td>1</td>\n",
              "      <td>0</td>\n",
              "      <td>...</td>\n",
              "      <td>0</td>\n",
              "      <td>0</td>\n",
              "      <td>0</td>\n",
              "      <td>0</td>\n",
              "      <td>0</td>\n",
              "      <td>0</td>\n",
              "      <td>0</td>\n",
              "      <td>0</td>\n",
              "      <td>1</td>\n",
              "      <td>0</td>\n",
              "    </tr>\n",
              "    <tr>\n",
              "      <th>3</th>\n",
              "      <td>1</td>\n",
              "      <td>6692</td>\n",
              "      <td>1</td>\n",
              "      <td>0</td>\n",
              "      <td>0</td>\n",
              "      <td>0</td>\n",
              "      <td>1</td>\n",
              "      <td>0</td>\n",
              "      <td>0</td>\n",
              "      <td>0</td>\n",
              "      <td>...</td>\n",
              "      <td>0</td>\n",
              "      <td>1</td>\n",
              "      <td>0</td>\n",
              "      <td>0</td>\n",
              "      <td>0</td>\n",
              "      <td>0</td>\n",
              "      <td>0</td>\n",
              "      <td>0</td>\n",
              "      <td>1</td>\n",
              "      <td>0</td>\n",
              "    </tr>\n",
              "    <tr>\n",
              "      <th>4</th>\n",
              "      <td>1</td>\n",
              "      <td>142590</td>\n",
              "      <td>1</td>\n",
              "      <td>0</td>\n",
              "      <td>0</td>\n",
              "      <td>0</td>\n",
              "      <td>1</td>\n",
              "      <td>0</td>\n",
              "      <td>0</td>\n",
              "      <td>0</td>\n",
              "      <td>...</td>\n",
              "      <td>0</td>\n",
              "      <td>0</td>\n",
              "      <td>1</td>\n",
              "      <td>0</td>\n",
              "      <td>0</td>\n",
              "      <td>0</td>\n",
              "      <td>0</td>\n",
              "      <td>0</td>\n",
              "      <td>1</td>\n",
              "      <td>0</td>\n",
              "    </tr>\n",
              "  </tbody>\n",
              "</table>\n",
              "<p>5 rows × 50 columns</p>\n",
              "</div>\n",
              "      <button class=\"colab-df-convert\" onclick=\"convertToInteractive('df-286dd643-226c-4d01-8dc7-213ec4b2a5f6')\"\n",
              "              title=\"Convert this dataframe to an interactive table.\"\n",
              "              style=\"display:none;\">\n",
              "        \n",
              "  <svg xmlns=\"http://www.w3.org/2000/svg\" height=\"24px\"viewBox=\"0 0 24 24\"\n",
              "       width=\"24px\">\n",
              "    <path d=\"M0 0h24v24H0V0z\" fill=\"none\"/>\n",
              "    <path d=\"M18.56 5.44l.94 2.06.94-2.06 2.06-.94-2.06-.94-.94-2.06-.94 2.06-2.06.94zm-11 1L8.5 8.5l.94-2.06 2.06-.94-2.06-.94L8.5 2.5l-.94 2.06-2.06.94zm10 10l.94 2.06.94-2.06 2.06-.94-2.06-.94-.94-2.06-.94 2.06-2.06.94z\"/><path d=\"M17.41 7.96l-1.37-1.37c-.4-.4-.92-.59-1.43-.59-.52 0-1.04.2-1.43.59L10.3 9.45l-7.72 7.72c-.78.78-.78 2.05 0 2.83L4 21.41c.39.39.9.59 1.41.59.51 0 1.02-.2 1.41-.59l7.78-7.78 2.81-2.81c.8-.78.8-2.07 0-2.86zM5.41 20L4 18.59l7.72-7.72 1.47 1.35L5.41 20z\"/>\n",
              "  </svg>\n",
              "      </button>\n",
              "      \n",
              "  <style>\n",
              "    .colab-df-container {\n",
              "      display:flex;\n",
              "      flex-wrap:wrap;\n",
              "      gap: 12px;\n",
              "    }\n",
              "\n",
              "    .colab-df-convert {\n",
              "      background-color: #E8F0FE;\n",
              "      border: none;\n",
              "      border-radius: 50%;\n",
              "      cursor: pointer;\n",
              "      display: none;\n",
              "      fill: #1967D2;\n",
              "      height: 32px;\n",
              "      padding: 0 0 0 0;\n",
              "      width: 32px;\n",
              "    }\n",
              "\n",
              "    .colab-df-convert:hover {\n",
              "      background-color: #E2EBFA;\n",
              "      box-shadow: 0px 1px 2px rgba(60, 64, 67, 0.3), 0px 1px 3px 1px rgba(60, 64, 67, 0.15);\n",
              "      fill: #174EA6;\n",
              "    }\n",
              "\n",
              "    [theme=dark] .colab-df-convert {\n",
              "      background-color: #3B4455;\n",
              "      fill: #D2E3FC;\n",
              "    }\n",
              "\n",
              "    [theme=dark] .colab-df-convert:hover {\n",
              "      background-color: #434B5C;\n",
              "      box-shadow: 0px 1px 3px 1px rgba(0, 0, 0, 0.15);\n",
              "      filter: drop-shadow(0px 1px 2px rgba(0, 0, 0, 0.3));\n",
              "      fill: #FFFFFF;\n",
              "    }\n",
              "  </style>\n",
              "\n",
              "      <script>\n",
              "        const buttonEl =\n",
              "          document.querySelector('#df-286dd643-226c-4d01-8dc7-213ec4b2a5f6 button.colab-df-convert');\n",
              "        buttonEl.style.display =\n",
              "          google.colab.kernel.accessAllowed ? 'block' : 'none';\n",
              "\n",
              "        async function convertToInteractive(key) {\n",
              "          const element = document.querySelector('#df-286dd643-226c-4d01-8dc7-213ec4b2a5f6');\n",
              "          const dataTable =\n",
              "            await google.colab.kernel.invokeFunction('convertToInteractive',\n",
              "                                                     [key], {});\n",
              "          if (!dataTable) return;\n",
              "\n",
              "          const docLinkHtml = 'Like what you see? Visit the ' +\n",
              "            '<a target=\"_blank\" href=https://colab.research.google.com/notebooks/data_table.ipynb>data table notebook</a>'\n",
              "            + ' to learn more about interactive tables.';\n",
              "          element.innerHTML = '';\n",
              "          dataTable['output_type'] = 'display_data';\n",
              "          await google.colab.output.renderOutput(dataTable, element);\n",
              "          const docLink = document.createElement('div');\n",
              "          docLink.innerHTML = docLinkHtml;\n",
              "          element.appendChild(docLink);\n",
              "        }\n",
              "      </script>\n",
              "    </div>\n",
              "  </div>\n",
              "  "
            ]
          },
          "metadata": {},
          "execution_count": 33
        }
      ],
      "source": [
        "# Convert categorical data to numeric with `pd.get_dummies`\n",
        "application_df = pd.get_dummies(application_df)\n",
        "application_df.head()"
      ]
    },
    {
      "cell_type": "code",
      "execution_count": null,
      "metadata": {
        "id": "y3ydRfGg5es_"
      },
      "outputs": [],
      "source": [
        "# Split our preprocessed data into our features and target arrays\n",
        "X = application_df.drop('IS_SUCCESSFUL', axis = 1).values\n",
        "y = application_df['IS_SUCCESSFUL'].values\n",
        "\n",
        "# Split the preprocessed data into a training and testing dataset\n",
        "X_train, X_test, y_train, y_test = train_test_split(X, y, random_state = 42)"
      ]
    },
    {
      "cell_type": "code",
      "execution_count": null,
      "metadata": {
        "id": "ZefpF_a55etA"
      },
      "outputs": [],
      "source": [
        "# Create a StandardScaler instances\n",
        "scaler = StandardScaler()\n",
        "\n",
        "# Fit the StandardScaler\n",
        "X_scaler = scaler.fit(X_train)\n",
        "\n",
        "# Scale the data\n",
        "X_train_scaled = X_scaler.transform(X_train)\n",
        "X_test_scaled = X_scaler.transform(X_test)"
      ]
    },
    {
      "cell_type": "markdown",
      "metadata": {
        "id": "MUXe7ita5etA"
      },
      "source": [
        "## Compile, Train and Evaluate the Model"
      ]
    },
    {
      "cell_type": "markdown",
      "source": [
        "### Attempt 1"
      ],
      "metadata": {
        "id": "3ytw0xHQY-tg"
      }
    },
    {
      "cell_type": "code",
      "execution_count": null,
      "metadata": {
        "colab": {
          "base_uri": "https://localhost:8080/"
        },
        "id": "EAYOuaq25etA",
        "outputId": "a6711428-ac85-43ee-cf5e-ee65c0719f1b"
      },
      "outputs": [
        {
          "output_type": "stream",
          "name": "stdout",
          "text": [
            "Model: \"sequential_1\"\n",
            "_________________________________________________________________\n",
            " Layer (type)                Output Shape              Param #   \n",
            "=================================================================\n",
            " dense_3 (Dense)             (None, 6)                 300       \n",
            "                                                                 \n",
            " dense_4 (Dense)             (None, 12)                84        \n",
            "                                                                 \n",
            " dense_5 (Dense)             (None, 1)                 13        \n",
            "                                                                 \n",
            "=================================================================\n",
            "Total params: 397\n",
            "Trainable params: 397\n",
            "Non-trainable params: 0\n",
            "_________________________________________________________________\n"
          ]
        }
      ],
      "source": [
        "# Define the model - deep neural net, i.e., the number of input features and hidden nodes for each layer.\n",
        "input_features = len(X_train_scaled[0])\n",
        "hidden_layer1 = 6\n",
        "hidden_layer2 = 12\n",
        "\n",
        "nn = tf.keras.models.Sequential()\n",
        "\n",
        "# First hidden layer\n",
        "nn.add(tf.keras.layers.Dense(units = hidden_layer1, input_dim = input_features, activation = 'relu'))\n",
        "\n",
        "# Second hidden layer\n",
        "nn.add(tf.keras.layers.Dense(units = hidden_layer2, activation = 'relu'))\n",
        "\n",
        "# Output layer\n",
        "nn.add(tf.keras.layers.Dense(units=1, activation = \"sigmoid\"))\n",
        "\n",
        "# Check the structure of the model\n",
        "nn.summary()"
      ]
    },
    {
      "cell_type": "code",
      "execution_count": null,
      "metadata": {
        "id": "8qJ1a7Zt5etB"
      },
      "outputs": [],
      "source": [
        "# Compile the model\n",
        "nn.compile(loss = 'binary_crossentropy', optimizer = 'adam', metrics=['accuracy'])"
      ]
    },
    {
      "cell_type": "code",
      "execution_count": null,
      "metadata": {
        "colab": {
          "base_uri": "https://localhost:8080/"
        },
        "id": "MDGffZ_X5etB",
        "outputId": "5756fb47-6017-40de-df18-196326fb5cfb"
      },
      "outputs": [
        {
          "output_type": "stream",
          "name": "stdout",
          "text": [
            "Epoch 1/100\n",
            "684/684 [==============================] - 4s 4ms/step - loss: 0.6324 - accuracy: 0.6728 - val_loss: 0.5757 - val_accuracy: 0.7258\n",
            "Epoch 2/100\n",
            "684/684 [==============================] - 2s 4ms/step - loss: 0.5783 - accuracy: 0.7191 - val_loss: 0.5623 - val_accuracy: 0.7318\n",
            "Epoch 3/100\n",
            "684/684 [==============================] - 2s 3ms/step - loss: 0.5682 - accuracy: 0.7240 - val_loss: 0.5548 - val_accuracy: 0.7323\n",
            "Epoch 4/100\n",
            "684/684 [==============================] - 2s 3ms/step - loss: 0.5636 - accuracy: 0.7259 - val_loss: 0.5527 - val_accuracy: 0.7354\n",
            "Epoch 5/100\n",
            "684/684 [==============================] - 2s 3ms/step - loss: 0.5600 - accuracy: 0.7274 - val_loss: 0.5514 - val_accuracy: 0.7362\n",
            "Epoch 6/100\n",
            "684/684 [==============================] - 2s 3ms/step - loss: 0.5578 - accuracy: 0.7291 - val_loss: 0.5501 - val_accuracy: 0.7359\n",
            "Epoch 7/100\n",
            "684/684 [==============================] - 2s 3ms/step - loss: 0.5565 - accuracy: 0.7286 - val_loss: 0.5519 - val_accuracy: 0.7336\n",
            "Epoch 8/100\n",
            "684/684 [==============================] - 2s 4ms/step - loss: 0.5556 - accuracy: 0.7291 - val_loss: 0.5496 - val_accuracy: 0.7346\n",
            "Epoch 9/100\n",
            "684/684 [==============================] - 2s 3ms/step - loss: 0.5542 - accuracy: 0.7289 - val_loss: 0.5487 - val_accuracy: 0.7362\n",
            "Epoch 10/100\n",
            "684/684 [==============================] - 2s 3ms/step - loss: 0.5543 - accuracy: 0.7300 - val_loss: 0.5496 - val_accuracy: 0.7349\n",
            "Epoch 11/100\n",
            "684/684 [==============================] - 2s 3ms/step - loss: 0.5538 - accuracy: 0.7295 - val_loss: 0.5472 - val_accuracy: 0.7357\n",
            "Epoch 12/100\n",
            "684/684 [==============================] - 3s 5ms/step - loss: 0.5531 - accuracy: 0.7295 - val_loss: 0.5478 - val_accuracy: 0.7354\n",
            "Epoch 13/100\n",
            "684/684 [==============================] - 3s 4ms/step - loss: 0.5530 - accuracy: 0.7305 - val_loss: 0.5508 - val_accuracy: 0.7346\n",
            "Epoch 14/100\n",
            "684/684 [==============================] - 2s 3ms/step - loss: 0.5528 - accuracy: 0.7287 - val_loss: 0.5503 - val_accuracy: 0.7292\n",
            "Epoch 15/100\n",
            "684/684 [==============================] - 2s 3ms/step - loss: 0.5521 - accuracy: 0.7282 - val_loss: 0.5515 - val_accuracy: 0.7331\n",
            "Epoch 16/100\n",
            "684/684 [==============================] - 2s 3ms/step - loss: 0.5516 - accuracy: 0.7291 - val_loss: 0.5475 - val_accuracy: 0.7346\n",
            "Epoch 17/100\n",
            "684/684 [==============================] - 2s 3ms/step - loss: 0.5518 - accuracy: 0.7288 - val_loss: 0.5498 - val_accuracy: 0.7336\n",
            "Epoch 18/100\n",
            "684/684 [==============================] - 2s 3ms/step - loss: 0.5512 - accuracy: 0.7298 - val_loss: 0.5472 - val_accuracy: 0.7336\n",
            "Epoch 19/100\n",
            "684/684 [==============================] - 3s 4ms/step - loss: 0.5513 - accuracy: 0.7292 - val_loss: 0.5487 - val_accuracy: 0.7313\n",
            "Epoch 20/100\n",
            "684/684 [==============================] - 2s 3ms/step - loss: 0.5510 - accuracy: 0.7298 - val_loss: 0.5480 - val_accuracy: 0.7341\n",
            "Epoch 21/100\n",
            "684/684 [==============================] - 2s 3ms/step - loss: 0.5511 - accuracy: 0.7286 - val_loss: 0.5496 - val_accuracy: 0.7289\n",
            "Epoch 22/100\n",
            "684/684 [==============================] - 2s 3ms/step - loss: 0.5508 - accuracy: 0.7308 - val_loss: 0.5471 - val_accuracy: 0.7344\n",
            "Epoch 23/100\n",
            "684/684 [==============================] - 2s 3ms/step - loss: 0.5509 - accuracy: 0.7292 - val_loss: 0.5483 - val_accuracy: 0.7334\n",
            "Epoch 24/100\n",
            "684/684 [==============================] - 2s 3ms/step - loss: 0.5506 - accuracy: 0.7302 - val_loss: 0.5483 - val_accuracy: 0.7313\n",
            "Epoch 25/100\n",
            "684/684 [==============================] - 3s 5ms/step - loss: 0.5505 - accuracy: 0.7297 - val_loss: 0.5482 - val_accuracy: 0.7287\n",
            "Epoch 26/100\n",
            "684/684 [==============================] - 2s 3ms/step - loss: 0.5507 - accuracy: 0.7297 - val_loss: 0.5474 - val_accuracy: 0.7336\n",
            "Epoch 27/100\n",
            "684/684 [==============================] - 2s 3ms/step - loss: 0.5504 - accuracy: 0.7296 - val_loss: 0.5465 - val_accuracy: 0.7339\n",
            "Epoch 28/100\n",
            "684/684 [==============================] - 2s 3ms/step - loss: 0.5503 - accuracy: 0.7300 - val_loss: 0.5482 - val_accuracy: 0.7341\n",
            "Epoch 29/100\n",
            "684/684 [==============================] - 2s 3ms/step - loss: 0.5501 - accuracy: 0.7294 - val_loss: 0.5465 - val_accuracy: 0.7354\n",
            "Epoch 30/100\n",
            "684/684 [==============================] - 2s 3ms/step - loss: 0.5506 - accuracy: 0.7284 - val_loss: 0.5465 - val_accuracy: 0.7341\n",
            "Epoch 31/100\n",
            "684/684 [==============================] - 3s 4ms/step - loss: 0.5499 - accuracy: 0.7286 - val_loss: 0.5488 - val_accuracy: 0.7331\n",
            "Epoch 32/100\n",
            "684/684 [==============================] - 2s 3ms/step - loss: 0.5501 - accuracy: 0.7308 - val_loss: 0.5486 - val_accuracy: 0.7326\n",
            "Epoch 33/100\n",
            "684/684 [==============================] - 2s 3ms/step - loss: 0.5500 - accuracy: 0.7309 - val_loss: 0.5457 - val_accuracy: 0.7336\n",
            "Epoch 34/100\n",
            "684/684 [==============================] - 2s 3ms/step - loss: 0.5499 - accuracy: 0.7304 - val_loss: 0.5487 - val_accuracy: 0.7326\n",
            "Epoch 35/100\n",
            "684/684 [==============================] - 2s 3ms/step - loss: 0.5499 - accuracy: 0.7298 - val_loss: 0.5491 - val_accuracy: 0.7328\n",
            "Epoch 36/100\n",
            "684/684 [==============================] - 2s 3ms/step - loss: 0.5494 - accuracy: 0.7305 - val_loss: 0.5472 - val_accuracy: 0.7323\n",
            "Epoch 37/100\n",
            "684/684 [==============================] - 3s 4ms/step - loss: 0.5497 - accuracy: 0.7301 - val_loss: 0.5471 - val_accuracy: 0.7362\n",
            "Epoch 38/100\n",
            "684/684 [==============================] - 2s 3ms/step - loss: 0.5495 - accuracy: 0.7308 - val_loss: 0.5474 - val_accuracy: 0.7326\n",
            "Epoch 39/100\n",
            "684/684 [==============================] - 3s 4ms/step - loss: 0.5495 - accuracy: 0.7314 - val_loss: 0.5466 - val_accuracy: 0.7339\n",
            "Epoch 40/100\n",
            "684/684 [==============================] - 2s 3ms/step - loss: 0.5492 - accuracy: 0.7308 - val_loss: 0.5471 - val_accuracy: 0.7344\n",
            "Epoch 41/100\n",
            "684/684 [==============================] - 2s 3ms/step - loss: 0.5494 - accuracy: 0.7304 - val_loss: 0.5463 - val_accuracy: 0.7349\n",
            "Epoch 42/100\n",
            "684/684 [==============================] - 2s 4ms/step - loss: 0.5493 - accuracy: 0.7309 - val_loss: 0.5491 - val_accuracy: 0.7336\n",
            "Epoch 43/100\n",
            "684/684 [==============================] - 2s 4ms/step - loss: 0.5492 - accuracy: 0.7311 - val_loss: 0.5477 - val_accuracy: 0.7341\n",
            "Epoch 44/100\n",
            "684/684 [==============================] - 2s 3ms/step - loss: 0.5493 - accuracy: 0.7303 - val_loss: 0.5472 - val_accuracy: 0.7344\n",
            "Epoch 45/100\n",
            "684/684 [==============================] - 2s 3ms/step - loss: 0.5490 - accuracy: 0.7310 - val_loss: 0.5470 - val_accuracy: 0.7321\n",
            "Epoch 46/100\n",
            "684/684 [==============================] - 2s 3ms/step - loss: 0.5489 - accuracy: 0.7310 - val_loss: 0.5463 - val_accuracy: 0.7328\n",
            "Epoch 47/100\n",
            "684/684 [==============================] - 2s 3ms/step - loss: 0.5488 - accuracy: 0.7317 - val_loss: 0.5458 - val_accuracy: 0.7323\n",
            "Epoch 48/100\n",
            "684/684 [==============================] - 2s 3ms/step - loss: 0.5489 - accuracy: 0.7308 - val_loss: 0.5461 - val_accuracy: 0.7323\n",
            "Epoch 49/100\n",
            "684/684 [==============================] - 3s 4ms/step - loss: 0.5488 - accuracy: 0.7317 - val_loss: 0.5464 - val_accuracy: 0.7352\n",
            "Epoch 50/100\n",
            "684/684 [==============================] - 2s 3ms/step - loss: 0.5486 - accuracy: 0.7314 - val_loss: 0.5461 - val_accuracy: 0.7354\n",
            "Epoch 51/100\n",
            "684/684 [==============================] - 2s 3ms/step - loss: 0.5488 - accuracy: 0.7314 - val_loss: 0.5471 - val_accuracy: 0.7339\n",
            "Epoch 52/100\n",
            "684/684 [==============================] - 2s 3ms/step - loss: 0.5485 - accuracy: 0.7314 - val_loss: 0.5469 - val_accuracy: 0.7334\n",
            "Epoch 53/100\n",
            "684/684 [==============================] - 2s 3ms/step - loss: 0.5485 - accuracy: 0.7314 - val_loss: 0.5476 - val_accuracy: 0.7346\n",
            "Epoch 54/100\n",
            "684/684 [==============================] - 2s 3ms/step - loss: 0.5485 - accuracy: 0.7296 - val_loss: 0.5457 - val_accuracy: 0.7331\n",
            "Epoch 55/100\n",
            "684/684 [==============================] - 3s 4ms/step - loss: 0.5484 - accuracy: 0.7320 - val_loss: 0.5486 - val_accuracy: 0.7328\n",
            "Epoch 56/100\n",
            "684/684 [==============================] - 2s 3ms/step - loss: 0.5484 - accuracy: 0.7308 - val_loss: 0.5464 - val_accuracy: 0.7331\n",
            "Epoch 57/100\n",
            "684/684 [==============================] - 2s 3ms/step - loss: 0.5478 - accuracy: 0.7311 - val_loss: 0.5455 - val_accuracy: 0.7349\n",
            "Epoch 58/100\n",
            "684/684 [==============================] - 2s 3ms/step - loss: 0.5479 - accuracy: 0.7308 - val_loss: 0.5478 - val_accuracy: 0.7292\n",
            "Epoch 59/100\n",
            "684/684 [==============================] - 2s 3ms/step - loss: 0.5483 - accuracy: 0.7308 - val_loss: 0.5463 - val_accuracy: 0.7336\n",
            "Epoch 60/100\n",
            "684/684 [==============================] - 2s 3ms/step - loss: 0.5480 - accuracy: 0.7314 - val_loss: 0.5492 - val_accuracy: 0.7339\n",
            "Epoch 61/100\n",
            "684/684 [==============================] - 3s 4ms/step - loss: 0.5478 - accuracy: 0.7318 - val_loss: 0.5473 - val_accuracy: 0.7326\n",
            "Epoch 62/100\n",
            "684/684 [==============================] - 3s 4ms/step - loss: 0.5479 - accuracy: 0.7308 - val_loss: 0.5479 - val_accuracy: 0.7287\n",
            "Epoch 63/100\n",
            "684/684 [==============================] - 4s 5ms/step - loss: 0.5481 - accuracy: 0.7296 - val_loss: 0.5461 - val_accuracy: 0.7341\n",
            "Epoch 64/100\n",
            "684/684 [==============================] - 5s 8ms/step - loss: 0.5483 - accuracy: 0.7317 - val_loss: 0.5474 - val_accuracy: 0.7341\n",
            "Epoch 65/100\n",
            "684/684 [==============================] - 5s 7ms/step - loss: 0.5478 - accuracy: 0.7314 - val_loss: 0.5460 - val_accuracy: 0.7328\n",
            "Epoch 66/100\n",
            "684/684 [==============================] - 3s 5ms/step - loss: 0.5477 - accuracy: 0.7315 - val_loss: 0.5473 - val_accuracy: 0.7346\n",
            "Epoch 67/100\n",
            "684/684 [==============================] - 2s 3ms/step - loss: 0.5479 - accuracy: 0.7312 - val_loss: 0.5469 - val_accuracy: 0.7287\n",
            "Epoch 68/100\n",
            "684/684 [==============================] - 3s 4ms/step - loss: 0.5476 - accuracy: 0.7318 - val_loss: 0.5476 - val_accuracy: 0.7328\n",
            "Epoch 69/100\n",
            "684/684 [==============================] - 2s 3ms/step - loss: 0.5474 - accuracy: 0.7306 - val_loss: 0.5468 - val_accuracy: 0.7339\n",
            "Epoch 70/100\n",
            "684/684 [==============================] - 2s 3ms/step - loss: 0.5476 - accuracy: 0.7313 - val_loss: 0.5468 - val_accuracy: 0.7315\n",
            "Epoch 71/100\n",
            "684/684 [==============================] - 2s 3ms/step - loss: 0.5482 - accuracy: 0.7316 - val_loss: 0.5470 - val_accuracy: 0.7344\n",
            "Epoch 72/100\n",
            "684/684 [==============================] - 2s 3ms/step - loss: 0.5476 - accuracy: 0.7309 - val_loss: 0.5461 - val_accuracy: 0.7334\n",
            "Epoch 73/100\n",
            "684/684 [==============================] - 2s 3ms/step - loss: 0.5472 - accuracy: 0.7314 - val_loss: 0.5470 - val_accuracy: 0.7334\n",
            "Epoch 74/100\n",
            "684/684 [==============================] - 3s 4ms/step - loss: 0.5479 - accuracy: 0.7308 - val_loss: 0.5465 - val_accuracy: 0.7331\n",
            "Epoch 75/100\n",
            "684/684 [==============================] - 2s 3ms/step - loss: 0.5474 - accuracy: 0.7303 - val_loss: 0.5495 - val_accuracy: 0.7289\n",
            "Epoch 76/100\n",
            "684/684 [==============================] - 2s 3ms/step - loss: 0.5477 - accuracy: 0.7320 - val_loss: 0.5465 - val_accuracy: 0.7326\n",
            "Epoch 77/100\n",
            "684/684 [==============================] - 2s 3ms/step - loss: 0.5474 - accuracy: 0.7321 - val_loss: 0.5469 - val_accuracy: 0.7310\n",
            "Epoch 78/100\n",
            "684/684 [==============================] - 2s 3ms/step - loss: 0.5475 - accuracy: 0.7303 - val_loss: 0.5454 - val_accuracy: 0.7323\n",
            "Epoch 79/100\n",
            "684/684 [==============================] - 2s 3ms/step - loss: 0.5471 - accuracy: 0.7312 - val_loss: 0.5482 - val_accuracy: 0.7276\n",
            "Epoch 80/100\n",
            "684/684 [==============================] - 3s 4ms/step - loss: 0.5475 - accuracy: 0.7310 - val_loss: 0.5453 - val_accuracy: 0.7341\n",
            "Epoch 81/100\n",
            "684/684 [==============================] - 2s 3ms/step - loss: 0.5473 - accuracy: 0.7299 - val_loss: 0.5466 - val_accuracy: 0.7331\n",
            "Epoch 82/100\n",
            "684/684 [==============================] - 2s 3ms/step - loss: 0.5474 - accuracy: 0.7307 - val_loss: 0.5455 - val_accuracy: 0.7334\n",
            "Epoch 83/100\n",
            "684/684 [==============================] - 2s 3ms/step - loss: 0.5474 - accuracy: 0.7319 - val_loss: 0.5487 - val_accuracy: 0.7323\n",
            "Epoch 84/100\n",
            "684/684 [==============================] - 2s 3ms/step - loss: 0.5471 - accuracy: 0.7314 - val_loss: 0.5472 - val_accuracy: 0.7344\n",
            "Epoch 85/100\n",
            "684/684 [==============================] - 2s 3ms/step - loss: 0.5473 - accuracy: 0.7314 - val_loss: 0.5460 - val_accuracy: 0.7326\n",
            "Epoch 86/100\n",
            "684/684 [==============================] - 3s 4ms/step - loss: 0.5470 - accuracy: 0.7309 - val_loss: 0.5472 - val_accuracy: 0.7334\n",
            "Epoch 87/100\n",
            "684/684 [==============================] - 2s 3ms/step - loss: 0.5468 - accuracy: 0.7319 - val_loss: 0.5456 - val_accuracy: 0.7359\n",
            "Epoch 88/100\n",
            "684/684 [==============================] - 2s 3ms/step - loss: 0.5473 - accuracy: 0.7317 - val_loss: 0.5463 - val_accuracy: 0.7334\n",
            "Epoch 89/100\n",
            "684/684 [==============================] - 2s 3ms/step - loss: 0.5469 - accuracy: 0.7323 - val_loss: 0.5463 - val_accuracy: 0.7331\n",
            "Epoch 90/100\n",
            "684/684 [==============================] - 2s 3ms/step - loss: 0.5470 - accuracy: 0.7329 - val_loss: 0.5457 - val_accuracy: 0.7328\n",
            "Epoch 91/100\n",
            "684/684 [==============================] - 2s 3ms/step - loss: 0.5469 - accuracy: 0.7304 - val_loss: 0.5462 - val_accuracy: 0.7292\n",
            "Epoch 92/100\n",
            "684/684 [==============================] - 2s 4ms/step - loss: 0.5472 - accuracy: 0.7315 - val_loss: 0.5456 - val_accuracy: 0.7344\n",
            "Epoch 93/100\n",
            "684/684 [==============================] - 3s 4ms/step - loss: 0.5468 - accuracy: 0.7315 - val_loss: 0.5477 - val_accuracy: 0.7292\n",
            "Epoch 94/100\n",
            "684/684 [==============================] - 2s 3ms/step - loss: 0.5471 - accuracy: 0.7315 - val_loss: 0.5458 - val_accuracy: 0.7346\n",
            "Epoch 95/100\n",
            "684/684 [==============================] - 2s 3ms/step - loss: 0.5471 - accuracy: 0.7309 - val_loss: 0.5468 - val_accuracy: 0.7341\n",
            "Epoch 96/100\n",
            "684/684 [==============================] - 2s 3ms/step - loss: 0.5471 - accuracy: 0.7312 - val_loss: 0.5453 - val_accuracy: 0.7339\n",
            "Epoch 97/100\n",
            "684/684 [==============================] - 2s 3ms/step - loss: 0.5469 - accuracy: 0.7320 - val_loss: 0.5468 - val_accuracy: 0.7326\n",
            "Epoch 98/100\n",
            "684/684 [==============================] - 3s 4ms/step - loss: 0.5469 - accuracy: 0.7304 - val_loss: 0.5462 - val_accuracy: 0.7344\n",
            "Epoch 99/100\n",
            "684/684 [==============================] - 2s 4ms/step - loss: 0.5468 - accuracy: 0.7310 - val_loss: 0.5459 - val_accuracy: 0.7334\n",
            "Epoch 100/100\n",
            "684/684 [==============================] - 2s 3ms/step - loss: 0.5469 - accuracy: 0.7324 - val_loss: 0.5461 - val_accuracy: 0.7328\n"
          ]
        }
      ],
      "source": [
        "# Train the model\n",
        "fit_model = nn.fit(X_train_scaled, y_train, validation_split = 0.15, epochs = 100)"
      ]
    },
    {
      "cell_type": "code",
      "execution_count": null,
      "metadata": {
        "colab": {
          "base_uri": "https://localhost:8080/"
        },
        "id": "UdSuZoQx5etB",
        "outputId": "514e734d-cd76-46a4-edd1-ba704f48a75a"
      },
      "outputs": [
        {
          "output_type": "stream",
          "name": "stdout",
          "text": [
            "268/268 - 0s - loss: 0.5559 - accuracy: 0.7280 - 467ms/epoch - 2ms/step\n",
            "Loss: 0.55592280626297, Accuracy: 0.7280466556549072\n"
          ]
        }
      ],
      "source": [
        "# Evaluate the model using the test data\n",
        "model_loss, model_accuracy = nn.evaluate(X_test_scaled,y_test,verbose=2)\n",
        "print(f\"Loss: {model_loss}, Accuracy: {model_accuracy}\")"
      ]
    },
    {
      "cell_type": "code",
      "source": [
        "# Plot the accuracy for easy visualization\n",
        "history_df = pd.DataFrame(fit_model.history, index = range(1, len(fit_model.history['loss'])+1))\n",
        "history_df.plot(y = 'accuracy')"
      ],
      "metadata": {
        "colab": {
          "base_uri": "https://localhost:8080/",
          "height": 282
        },
        "id": "lpwrX3_dWJJP",
        "outputId": "3d1904c8-22b0-466c-c459-817de9cbee93"
      },
      "execution_count": null,
      "outputs": [
        {
          "output_type": "execute_result",
          "data": {
            "text/plain": [
              "<AxesSubplot:>"
            ]
          },
          "metadata": {},
          "execution_count": 40
        },
        {
          "output_type": "display_data",
          "data": {
            "text/plain": [
              "<Figure size 432x288 with 1 Axes>"
            ],
            "image/png": "[encoded data removed]"
          },
          "metadata": {
            "needs_background": "light"
          }
        }
      ]
    },
    {
      "cell_type": "code",
      "execution_count": null,
      "metadata": {
        "id": "qK3aAX9y5etC",
        "colab": {
          "base_uri": "https://localhost:8080/"
        },
        "outputId": "6c1adfa3-482e-4084-950b-d75df03f96ab"
      },
      "outputs": [
        {
          "output_type": "stream",
          "name": "stdout",
          "text": [
            "Drive already mounted at /content/drive; to attempt to forcibly remount, call drive.mount(\"/content/drive\", force_remount=True).\n"
          ]
        }
      ],
      "source": [
        "# Export our model to HDF5 file\n",
        "from google.colab import drive\n",
        "drive.mount(\"/content/drive\")\n",
        "nn.save(\"/../h5Files/AlphabetSoupCharity.h5\")\n"
      ]
    },
    {
      "cell_type": "markdown",
      "source": [
        "Attempt 1: Accuracy 73% Loss Rate of .549\n",
        "Layer 1 - 6; relu\n",
        "Layer 2 - 12; relu\n",
        "100 Epochs"
      ],
      "metadata": {
        "id": "a8em8v_vZJex"
      }
    },
    {
      "cell_type": "markdown",
      "source": [
        "## Optimize the Model\n",
        "Looking to obtain a predicitive accuracy higher than 75%.  Will be running several of the last models, adjusting layers, activation functions, etc. "
      ],
      "metadata": {
        "id": "KLyrROxoUFKT"
      }
    },
    {
      "cell_type": "markdown",
      "source": [
        "### Attempt 2\n",
        "2nd attempt - adding larger layers (9,18); adjusting layer 1 to tahn; adjusting to 75 epochs to limit the processing time. "
      ],
      "metadata": {
        "id": "2n66pWu6biNg"
      }
    },
    {
      "cell_type": "code",
      "source": [
        "# Define the model - deep neural net, i.e., the number of input features and hidden nodes for each layer.\n",
        "input_features = len(X_train_scaled[0])\n",
        "hidden_layer1 = 9\n",
        "hidden_layer2 = 18\n",
        "\n",
        "nn2 = tf.keras.models.Sequential()\n",
        "\n",
        "# First hidden layer\n",
        "nn2.add(tf.keras.layers.Dense(units = hidden_layer1, input_dim = input_features, activation = 'tanh'))\n",
        "\n",
        "# Second hidden layer\n",
        "nn2.add(tf.keras.layers.Dense(units = hidden_layer2, activation = 'relu'))\n",
        "\n",
        "# Output layer\n",
        "nn2.add(tf.keras.layers.Dense(units=1, activation = \"sigmoid\"))\n",
        "\n",
        "# Check the structure of the model\n",
        "nn2.summary()"
      ],
      "metadata": {
        "colab": {
          "base_uri": "https://localhost:8080/"
        },
        "id": "53aXC_fgULHE",
        "outputId": "aed3d5b1-8648-414d-e277-598f7a79e5e3"
      },
      "execution_count": null,
      "outputs": [
        {
          "output_type": "stream",
          "name": "stdout",
          "text": [
            "Model: \"sequential_5\"\n",
            "_________________________________________________________________\n",
            " Layer (type)                Output Shape              Param #   \n",
            "=================================================================\n",
            " dense_12 (Dense)            (None, 9)                 450       \n",
            "                                                                 \n",
            " dense_13 (Dense)            (None, 18)                180       \n",
            "                                                                 \n",
            " dense_14 (Dense)            (None, 1)                 19        \n",
            "                                                                 \n",
            "=================================================================\n",
            "Total params: 649\n",
            "Trainable params: 649\n",
            "Non-trainable params: 0\n",
            "_________________________________________________________________\n"
          ]
        }
      ]
    },
    {
      "cell_type": "code",
      "source": [
        "# Compile the model\n",
        "nn2.compile(loss = 'binary_crossentropy', optimizer = 'adam', metrics=['accuracy'])"
      ],
      "metadata": {
        "id": "qcFKToQdZrHl"
      },
      "execution_count": null,
      "outputs": []
    },
    {
      "cell_type": "code",
      "source": [
        "# Train the model\n",
        "fit_model = nn2.fit(X_train_scaled, y_train, validation_split = 0.15, epochs = 75)"
      ],
      "metadata": {
        "colab": {
          "base_uri": "https://localhost:8080/"
        },
        "id": "iAjC61W3ZtZw",
        "outputId": "6f910395-f933-481b-d6b0-ac99781e48d1"
      },
      "execution_count": null,
      "outputs": [
        {
          "output_type": "stream",
          "name": "stdout",
          "text": [
            "Epoch 1/75\n",
            "684/684 [==============================] - 3s 3ms/step - loss: 0.5949 - accuracy: 0.6983 - val_loss: 0.5527 - val_accuracy: 0.7372\n",
            "Epoch 2/75\n",
            "684/684 [==============================] - 2s 4ms/step - loss: 0.5610 - accuracy: 0.7243 - val_loss: 0.5478 - val_accuracy: 0.7362\n",
            "Epoch 3/75\n",
            "684/684 [==============================] - 2s 2ms/step - loss: 0.5552 - accuracy: 0.7261 - val_loss: 0.5446 - val_accuracy: 0.7385\n",
            "Epoch 4/75\n",
            "684/684 [==============================] - 2s 2ms/step - loss: 0.5526 - accuracy: 0.7260 - val_loss: 0.5446 - val_accuracy: 0.7375\n",
            "Epoch 5/75\n",
            "684/684 [==============================] - 2s 2ms/step - loss: 0.5514 - accuracy: 0.7286 - val_loss: 0.5441 - val_accuracy: 0.7372\n",
            "Epoch 6/75\n",
            "684/684 [==============================] - 2s 3ms/step - loss: 0.5499 - accuracy: 0.7282 - val_loss: 0.5449 - val_accuracy: 0.7341\n",
            "Epoch 7/75\n",
            "684/684 [==============================] - 2s 3ms/step - loss: 0.5494 - accuracy: 0.7305 - val_loss: 0.5446 - val_accuracy: 0.7357\n",
            "Epoch 8/75\n",
            "684/684 [==============================] - 2s 3ms/step - loss: 0.5485 - accuracy: 0.7295 - val_loss: 0.5444 - val_accuracy: 0.7352\n",
            "Epoch 9/75\n",
            "684/684 [==============================] - 2s 4ms/step - loss: 0.5478 - accuracy: 0.7311 - val_loss: 0.5460 - val_accuracy: 0.7331\n",
            "Epoch 10/75\n",
            "684/684 [==============================] - 2s 2ms/step - loss: 0.5476 - accuracy: 0.7307 - val_loss: 0.5454 - val_accuracy: 0.7318\n",
            "Epoch 11/75\n",
            "684/684 [==============================] - 2s 2ms/step - loss: 0.5470 - accuracy: 0.7307 - val_loss: 0.5447 - val_accuracy: 0.7344\n",
            "Epoch 12/75\n",
            "684/684 [==============================] - 2s 2ms/step - loss: 0.5465 - accuracy: 0.7314 - val_loss: 0.5446 - val_accuracy: 0.7346\n",
            "Epoch 13/75\n",
            "684/684 [==============================] - 2s 3ms/step - loss: 0.5464 - accuracy: 0.7319 - val_loss: 0.5443 - val_accuracy: 0.7334\n",
            "Epoch 14/75\n",
            "684/684 [==============================] - 2s 3ms/step - loss: 0.5461 - accuracy: 0.7309 - val_loss: 0.5444 - val_accuracy: 0.7352\n",
            "Epoch 15/75\n",
            "684/684 [==============================] - 2s 3ms/step - loss: 0.5459 - accuracy: 0.7322 - val_loss: 0.5451 - val_accuracy: 0.7334\n",
            "Epoch 16/75\n",
            "684/684 [==============================] - 2s 3ms/step - loss: 0.5455 - accuracy: 0.7338 - val_loss: 0.5441 - val_accuracy: 0.7344\n",
            "Epoch 17/75\n",
            "684/684 [==============================] - 2s 3ms/step - loss: 0.5454 - accuracy: 0.7332 - val_loss: 0.5445 - val_accuracy: 0.7346\n",
            "Epoch 18/75\n",
            "684/684 [==============================] - 2s 2ms/step - loss: 0.5448 - accuracy: 0.7332 - val_loss: 0.5442 - val_accuracy: 0.7271\n",
            "Epoch 19/75\n",
            "684/684 [==============================] - 2s 3ms/step - loss: 0.5443 - accuracy: 0.7330 - val_loss: 0.5436 - val_accuracy: 0.7341\n",
            "Epoch 20/75\n",
            "684/684 [==============================] - 2s 2ms/step - loss: 0.5446 - accuracy: 0.7334 - val_loss: 0.5441 - val_accuracy: 0.7339\n",
            "Epoch 21/75\n",
            "684/684 [==============================] - 2s 2ms/step - loss: 0.5444 - accuracy: 0.7346 - val_loss: 0.5462 - val_accuracy: 0.7354\n",
            "Epoch 22/75\n",
            "684/684 [==============================] - 2s 3ms/step - loss: 0.5442 - accuracy: 0.7333 - val_loss: 0.5449 - val_accuracy: 0.7297\n",
            "Epoch 23/75\n",
            "684/684 [==============================] - 3s 4ms/step - loss: 0.5442 - accuracy: 0.7330 - val_loss: 0.5449 - val_accuracy: 0.7341\n",
            "Epoch 24/75\n",
            "684/684 [==============================] - 2s 3ms/step - loss: 0.5439 - accuracy: 0.7339 - val_loss: 0.5452 - val_accuracy: 0.7336\n",
            "Epoch 25/75\n",
            "684/684 [==============================] - 2s 3ms/step - loss: 0.5435 - accuracy: 0.7337 - val_loss: 0.5462 - val_accuracy: 0.7297\n",
            "Epoch 26/75\n",
            "684/684 [==============================] - 2s 3ms/step - loss: 0.5433 - accuracy: 0.7334 - val_loss: 0.5445 - val_accuracy: 0.7339\n",
            "Epoch 27/75\n",
            "684/684 [==============================] - 2s 2ms/step - loss: 0.5434 - accuracy: 0.7334 - val_loss: 0.5464 - val_accuracy: 0.7339\n",
            "Epoch 28/75\n",
            "684/684 [==============================] - 2s 2ms/step - loss: 0.5432 - accuracy: 0.7334 - val_loss: 0.5452 - val_accuracy: 0.7344\n",
            "Epoch 29/75\n",
            "684/684 [==============================] - 2s 3ms/step - loss: 0.5431 - accuracy: 0.7334 - val_loss: 0.5459 - val_accuracy: 0.7251\n",
            "Epoch 30/75\n",
            "684/684 [==============================] - 3s 4ms/step - loss: 0.5432 - accuracy: 0.7326 - val_loss: 0.5457 - val_accuracy: 0.7331\n",
            "Epoch 31/75\n",
            "684/684 [==============================] - 2s 2ms/step - loss: 0.5431 - accuracy: 0.7338 - val_loss: 0.5462 - val_accuracy: 0.7346\n",
            "Epoch 32/75\n",
            "684/684 [==============================] - 2s 2ms/step - loss: 0.5429 - accuracy: 0.7345 - val_loss: 0.5457 - val_accuracy: 0.7344\n",
            "Epoch 33/75\n",
            "684/684 [==============================] - 2s 3ms/step - loss: 0.5429 - accuracy: 0.7343 - val_loss: 0.5448 - val_accuracy: 0.7334\n",
            "Epoch 34/75\n",
            "684/684 [==============================] - 2s 3ms/step - loss: 0.5425 - accuracy: 0.7346 - val_loss: 0.5458 - val_accuracy: 0.7349\n",
            "Epoch 35/75\n",
            "684/684 [==============================] - 2s 3ms/step - loss: 0.5425 - accuracy: 0.7345 - val_loss: 0.5476 - val_accuracy: 0.7336\n",
            "Epoch 36/75\n",
            "684/684 [==============================] - 2s 3ms/step - loss: 0.5426 - accuracy: 0.7343 - val_loss: 0.5447 - val_accuracy: 0.7341\n",
            "Epoch 37/75\n",
            "684/684 [==============================] - 2s 4ms/step - loss: 0.5423 - accuracy: 0.7344 - val_loss: 0.5458 - val_accuracy: 0.7349\n",
            "Epoch 38/75\n",
            "684/684 [==============================] - 2s 2ms/step - loss: 0.5423 - accuracy: 0.7331 - val_loss: 0.5448 - val_accuracy: 0.7339\n",
            "Epoch 39/75\n",
            "684/684 [==============================] - 2s 2ms/step - loss: 0.5423 - accuracy: 0.7344 - val_loss: 0.5441 - val_accuracy: 0.7352\n",
            "Epoch 40/75\n",
            "684/684 [==============================] - 2s 3ms/step - loss: 0.5421 - accuracy: 0.7340 - val_loss: 0.5443 - val_accuracy: 0.7334\n",
            "Epoch 41/75\n",
            "684/684 [==============================] - 2s 3ms/step - loss: 0.5417 - accuracy: 0.7348 - val_loss: 0.5457 - val_accuracy: 0.7365\n",
            "Epoch 42/75\n",
            "684/684 [==============================] - 2s 2ms/step - loss: 0.5419 - accuracy: 0.7329 - val_loss: 0.5453 - val_accuracy: 0.7334\n",
            "Epoch 43/75\n",
            "684/684 [==============================] - 2s 3ms/step - loss: 0.5421 - accuracy: 0.7331 - val_loss: 0.5446 - val_accuracy: 0.7357\n",
            "Epoch 44/75\n",
            "684/684 [==============================] - 2s 4ms/step - loss: 0.5417 - accuracy: 0.7343 - val_loss: 0.5443 - val_accuracy: 0.7346\n",
            "Epoch 45/75\n",
            "684/684 [==============================] - 2s 3ms/step - loss: 0.5418 - accuracy: 0.7339 - val_loss: 0.5459 - val_accuracy: 0.7328\n",
            "Epoch 46/75\n",
            "684/684 [==============================] - 2s 2ms/step - loss: 0.5415 - accuracy: 0.7349 - val_loss: 0.5456 - val_accuracy: 0.7264\n",
            "Epoch 47/75\n",
            "684/684 [==============================] - 2s 2ms/step - loss: 0.5416 - accuracy: 0.7342 - val_loss: 0.5473 - val_accuracy: 0.7284\n",
            "Epoch 48/75\n",
            "684/684 [==============================] - 2s 3ms/step - loss: 0.5415 - accuracy: 0.7345 - val_loss: 0.5461 - val_accuracy: 0.7284\n",
            "Epoch 49/75\n",
            "684/684 [==============================] - 2s 2ms/step - loss: 0.5416 - accuracy: 0.7333 - val_loss: 0.5452 - val_accuracy: 0.7321\n",
            "Epoch 50/75\n",
            "684/684 [==============================] - 4s 5ms/step - loss: 0.5416 - accuracy: 0.7337 - val_loss: 0.5452 - val_accuracy: 0.7344\n",
            "Epoch 51/75\n",
            "684/684 [==============================] - 2s 3ms/step - loss: 0.5419 - accuracy: 0.7364 - val_loss: 0.5454 - val_accuracy: 0.7326\n",
            "Epoch 52/75\n",
            "684/684 [==============================] - 2s 2ms/step - loss: 0.5413 - accuracy: 0.7357 - val_loss: 0.5447 - val_accuracy: 0.7334\n",
            "Epoch 53/75\n",
            "684/684 [==============================] - 2s 3ms/step - loss: 0.5413 - accuracy: 0.7335 - val_loss: 0.5446 - val_accuracy: 0.7318\n",
            "Epoch 54/75\n",
            "684/684 [==============================] - 2s 3ms/step - loss: 0.5414 - accuracy: 0.7357 - val_loss: 0.5445 - val_accuracy: 0.7326\n",
            "Epoch 55/75\n",
            "684/684 [==============================] - 2s 3ms/step - loss: 0.5413 - accuracy: 0.7347 - val_loss: 0.5465 - val_accuracy: 0.7308\n",
            "Epoch 56/75\n",
            "684/684 [==============================] - 2s 3ms/step - loss: 0.5411 - accuracy: 0.7344 - val_loss: 0.5454 - val_accuracy: 0.7258\n",
            "Epoch 57/75\n",
            "684/684 [==============================] - 2s 4ms/step - loss: 0.5412 - accuracy: 0.7352 - val_loss: 0.5443 - val_accuracy: 0.7354\n",
            "Epoch 58/75\n",
            "684/684 [==============================] - 2s 2ms/step - loss: 0.5407 - accuracy: 0.7341 - val_loss: 0.5490 - val_accuracy: 0.7305\n",
            "Epoch 59/75\n",
            "684/684 [==============================] - 2s 2ms/step - loss: 0.5407 - accuracy: 0.7354 - val_loss: 0.5465 - val_accuracy: 0.7284\n",
            "Epoch 60/75\n",
            "684/684 [==============================] - 2s 2ms/step - loss: 0.5408 - accuracy: 0.7352 - val_loss: 0.5437 - val_accuracy: 0.7344\n",
            "Epoch 61/75\n",
            "684/684 [==============================] - 2s 2ms/step - loss: 0.5405 - accuracy: 0.7361 - val_loss: 0.5442 - val_accuracy: 0.7357\n",
            "Epoch 62/75\n",
            "684/684 [==============================] - 2s 3ms/step - loss: 0.5408 - accuracy: 0.7359 - val_loss: 0.5457 - val_accuracy: 0.7289\n",
            "Epoch 63/75\n",
            "684/684 [==============================] - 2s 3ms/step - loss: 0.5407 - accuracy: 0.7349 - val_loss: 0.5465 - val_accuracy: 0.7341\n",
            "Epoch 64/75\n",
            "684/684 [==============================] - 2s 3ms/step - loss: 0.5410 - accuracy: 0.7342 - val_loss: 0.5455 - val_accuracy: 0.7313\n",
            "Epoch 65/75\n",
            "684/684 [==============================] - 2s 2ms/step - loss: 0.5407 - accuracy: 0.7339 - val_loss: 0.5460 - val_accuracy: 0.7336\n",
            "Epoch 66/75\n",
            "684/684 [==============================] - 2s 3ms/step - loss: 0.5405 - accuracy: 0.7356 - val_loss: 0.5460 - val_accuracy: 0.7339\n",
            "Epoch 67/75\n",
            "684/684 [==============================] - 2s 3ms/step - loss: 0.5409 - accuracy: 0.7357 - val_loss: 0.5453 - val_accuracy: 0.7326\n",
            "Epoch 68/75\n",
            "684/684 [==============================] - 2s 3ms/step - loss: 0.5407 - accuracy: 0.7351 - val_loss: 0.5446 - val_accuracy: 0.7341\n",
            "Epoch 69/75\n",
            "684/684 [==============================] - 2s 3ms/step - loss: 0.5406 - accuracy: 0.7362 - val_loss: 0.5447 - val_accuracy: 0.7300\n",
            "Epoch 70/75\n",
            "684/684 [==============================] - 2s 3ms/step - loss: 0.5404 - accuracy: 0.7362 - val_loss: 0.5445 - val_accuracy: 0.7352\n",
            "Epoch 71/75\n",
            "684/684 [==============================] - 2s 3ms/step - loss: 0.5404 - accuracy: 0.7348 - val_loss: 0.5441 - val_accuracy: 0.7326\n",
            "Epoch 72/75\n",
            "684/684 [==============================] - 2s 3ms/step - loss: 0.5404 - accuracy: 0.7363 - val_loss: 0.5440 - val_accuracy: 0.7318\n",
            "Epoch 73/75\n",
            "684/684 [==============================] - 2s 3ms/step - loss: 0.5402 - accuracy: 0.7351 - val_loss: 0.5450 - val_accuracy: 0.7302\n",
            "Epoch 74/75\n",
            "684/684 [==============================] - 2s 3ms/step - loss: 0.5403 - accuracy: 0.7349 - val_loss: 0.5457 - val_accuracy: 0.7339\n",
            "Epoch 75/75\n",
            "684/684 [==============================] - 2s 3ms/step - loss: 0.5403 - accuracy: 0.7348 - val_loss: 0.5442 - val_accuracy: 0.7334\n"
          ]
        }
      ]
    },
    {
      "cell_type": "code",
      "source": [
        "# Evaluate the model using the test data\n",
        "model_loss, model_accuracy = nn2.evaluate(X_test_scaled,y_test,verbose=2)\n",
        "print(f\"Loss: {model_loss}, Accuracy: {model_accuracy}\")"
      ],
      "metadata": {
        "colab": {
          "base_uri": "https://localhost:8080/"
        },
        "id": "4_8MHYkJZvcT",
        "outputId": "3d1910d5-ec7b-4a9a-c4c5-b2d66eae9d94"
      },
      "execution_count": null,
      "outputs": [
        {
          "output_type": "stream",
          "name": "stdout",
          "text": [
            "268/268 - 0s - loss: 0.5516 - accuracy: 0.7284 - 422ms/epoch - 2ms/step\n",
            "Loss: 0.551633358001709, Accuracy: 0.728396475315094\n"
          ]
        }
      ]
    },
    {
      "cell_type": "code",
      "source": [
        "# Plot the accuracy for easy visualization\n",
        "history2_df = pd.DataFrame(fit_model.history, index = range(1, len(fit_model.history['loss'])+1))\n",
        "history2_df.plot(y = 'accuracy')"
      ],
      "metadata": {
        "colab": {
          "base_uri": "https://localhost:8080/",
          "height": 282
        },
        "id": "QkQMcGG0Zvv7",
        "outputId": "0547a0ce-90a6-4545-d57c-bb8d060c15e8"
      },
      "execution_count": null,
      "outputs": [
        {
          "output_type": "execute_result",
          "data": {
            "text/plain": [
              "<AxesSubplot:>"
            ]
          },
          "metadata": {},
          "execution_count": 67
        },
        {
          "output_type": "display_data",
          "data": {
            "text/plain": [
              "<Figure size 432x288 with 1 Axes>"
            ],
            "image/png": "[encoded data removed]"
          },
          "metadata": {
            "needs_background": "light"
          }
        }
      ]
    },
    {
      "cell_type": "code",
      "source": [
        "# Export our model to HDF5 file\n",
        "nn2.save('../h5Files/AlphabetSoupCharity2.h5')"
      ],
      "metadata": {
        "id": "Ig7XvPLFZybL"
      },
      "execution_count": null,
      "outputs": []
    },
    {
      "cell_type": "markdown",
      "source": [
        "Attempt 2: Accuracy 72.8%\n",
        "Loss Rate of .552\n",
        "Layer 1 - 9, Tahn; Layer 2 - 18 Relu"
      ],
      "metadata": {
        "id": "8q5dBpXtbess"
      }
    },
    {
      "cell_type": "markdown",
      "source": [
        "### Attempt 3"
      ],
      "metadata": {
        "id": "fRMT-jT8ZKaq"
      }
    },
    {
      "cell_type": "code",
      "source": [
        "# Define the model - deep neural net, i.e., the number of input features and hidden nodes for each layer.\n",
        "input_features = len(X_train_scaled[0])\n",
        "hidden_layer1 = 7\n",
        "hidden_layer2 = 14\n",
        "hidden_layer3 = 21\n",
        "\n",
        "nn3 = tf.keras.models.Sequential()\n",
        "\n",
        "# First hidden layer\n",
        "nn3.add(tf.keras.layers.Dense(units = hidden_layer1, input_dim = input_features, activation = 'relu'))\n",
        "\n",
        "# Second hidden layer\n",
        "nn3.add(tf.keras.layers.Dense(units = hidden_layer2, activation = 'relu'))\n",
        "\n",
        "# Third hidden layer\n",
        "nn3.add(tf.keras.layers.Dense(units = hidden_layer2, activation = 'relu'))\n",
        "\n",
        "# Output layer\n",
        "nn3.add(tf.keras.layers.Dense(units=1, activation = \"sigmoid\"))\n",
        "\n",
        "# Check the structure of the model\n",
        "nn3.summary()"
      ],
      "metadata": {
        "colab": {
          "base_uri": "https://localhost:8080/"
        },
        "id": "C-5nNETObobN",
        "outputId": "42bbede7-6806-436b-fad7-1a3f1956c7ae"
      },
      "execution_count": null,
      "outputs": [
        {
          "output_type": "stream",
          "name": "stdout",
          "text": [
            "Model: \"sequential_6\"\n",
            "_________________________________________________________________\n",
            " Layer (type)                Output Shape              Param #   \n",
            "=================================================================\n",
            " dense_15 (Dense)            (None, 7)                 350       \n",
            "                                                                 \n",
            " dense_16 (Dense)            (None, 14)                112       \n",
            "                                                                 \n",
            " dense_17 (Dense)            (None, 14)                210       \n",
            "                                                                 \n",
            " dense_18 (Dense)            (None, 1)                 15        \n",
            "                                                                 \n",
            "=================================================================\n",
            "Total params: 687\n",
            "Trainable params: 687\n",
            "Non-trainable params: 0\n",
            "_________________________________________________________________\n"
          ]
        }
      ]
    },
    {
      "cell_type": "code",
      "source": [
        "# Compile the model\n",
        "nn3.compile(loss = 'binary_crossentropy', optimizer = 'adam', metrics=['accuracy'])"
      ],
      "metadata": {
        "id": "lOMT5YHpboTw"
      },
      "execution_count": null,
      "outputs": []
    },
    {
      "cell_type": "code",
      "source": [
        "# Train the model\n",
        "fit_model = nn3.fit(X_train_scaled, y_train, validation_split = 0.15, epochs = 100)"
      ],
      "metadata": {
        "id": "epKrR5j-boLT",
        "colab": {
          "base_uri": "https://localhost:8080/"
        },
        "outputId": "122e43f3-6ac1-40eb-bc3a-961e3be3319f"
      },
      "execution_count": null,
      "outputs": [
        {
          "output_type": "stream",
          "name": "stdout",
          "text": [
            "Epoch 1/100\n",
            "684/684 [==============================] - 3s 3ms/step - loss: 0.6377 - accuracy: 0.6531 - val_loss: 0.5790 - val_accuracy: 0.7219\n",
            "Epoch 2/100\n",
            "684/684 [==============================] - 3s 4ms/step - loss: 0.5760 - accuracy: 0.7203 - val_loss: 0.5595 - val_accuracy: 0.7362\n",
            "Epoch 3/100\n",
            "684/684 [==============================] - 2s 3ms/step - loss: 0.5630 - accuracy: 0.7253 - val_loss: 0.5522 - val_accuracy: 0.7378\n",
            "Epoch 4/100\n",
            "684/684 [==============================] - 2s 3ms/step - loss: 0.5572 - accuracy: 0.7259 - val_loss: 0.5484 - val_accuracy: 0.7341\n",
            "Epoch 5/100\n",
            "684/684 [==============================] - 2s 3ms/step - loss: 0.5547 - accuracy: 0.7271 - val_loss: 0.5464 - val_accuracy: 0.7365\n",
            "Epoch 6/100\n",
            "684/684 [==============================] - 2s 2ms/step - loss: 0.5533 - accuracy: 0.7275 - val_loss: 0.5463 - val_accuracy: 0.7357\n",
            "Epoch 7/100\n",
            "684/684 [==============================] - 2s 3ms/step - loss: 0.5516 - accuracy: 0.7275 - val_loss: 0.5472 - val_accuracy: 0.7362\n",
            "Epoch 8/100\n",
            "684/684 [==============================] - 2s 3ms/step - loss: 0.5517 - accuracy: 0.7290 - val_loss: 0.5456 - val_accuracy: 0.7349\n",
            "Epoch 9/100\n",
            "684/684 [==============================] - 3s 4ms/step - loss: 0.5505 - accuracy: 0.7292 - val_loss: 0.5457 - val_accuracy: 0.7357\n",
            "Epoch 10/100\n",
            "684/684 [==============================] - 2s 3ms/step - loss: 0.5503 - accuracy: 0.7287 - val_loss: 0.5474 - val_accuracy: 0.7341\n",
            "Epoch 11/100\n",
            "684/684 [==============================] - 2s 3ms/step - loss: 0.5495 - accuracy: 0.7291 - val_loss: 0.5450 - val_accuracy: 0.7336\n",
            "Epoch 12/100\n",
            "684/684 [==============================] - 2s 3ms/step - loss: 0.5490 - accuracy: 0.7286 - val_loss: 0.5440 - val_accuracy: 0.7346\n",
            "Epoch 13/100\n",
            "684/684 [==============================] - 2s 3ms/step - loss: 0.5495 - accuracy: 0.7293 - val_loss: 0.5434 - val_accuracy: 0.7336\n",
            "Epoch 14/100\n",
            "684/684 [==============================] - 2s 3ms/step - loss: 0.5491 - accuracy: 0.7283 - val_loss: 0.5470 - val_accuracy: 0.7354\n",
            "Epoch 15/100\n",
            "684/684 [==============================] - 3s 5ms/step - loss: 0.5489 - accuracy: 0.7276 - val_loss: 0.5446 - val_accuracy: 0.7362\n",
            "Epoch 16/100\n",
            "684/684 [==============================] - 2s 3ms/step - loss: 0.5484 - accuracy: 0.7295 - val_loss: 0.5458 - val_accuracy: 0.7310\n",
            "Epoch 17/100\n",
            "684/684 [==============================] - 2s 3ms/step - loss: 0.5481 - accuracy: 0.7303 - val_loss: 0.5474 - val_accuracy: 0.7357\n",
            "Epoch 18/100\n",
            "684/684 [==============================] - 2s 3ms/step - loss: 0.5479 - accuracy: 0.7303 - val_loss: 0.5452 - val_accuracy: 0.7354\n",
            "Epoch 19/100\n",
            "684/684 [==============================] - 2s 3ms/step - loss: 0.5476 - accuracy: 0.7305 - val_loss: 0.5466 - val_accuracy: 0.7357\n",
            "Epoch 20/100\n",
            "684/684 [==============================] - 4s 6ms/step - loss: 0.5475 - accuracy: 0.7311 - val_loss: 0.5459 - val_accuracy: 0.7372\n",
            "Epoch 21/100\n",
            "684/684 [==============================] - 3s 4ms/step - loss: 0.5471 - accuracy: 0.7308 - val_loss: 0.5490 - val_accuracy: 0.7357\n",
            "Epoch 22/100\n",
            "684/684 [==============================] - 2s 4ms/step - loss: 0.5467 - accuracy: 0.7304 - val_loss: 0.5467 - val_accuracy: 0.7359\n",
            "Epoch 23/100\n",
            "684/684 [==============================] - 2s 3ms/step - loss: 0.5461 - accuracy: 0.7314 - val_loss: 0.5441 - val_accuracy: 0.7349\n",
            "Epoch 24/100\n",
            "684/684 [==============================] - 2s 3ms/step - loss: 0.5464 - accuracy: 0.7303 - val_loss: 0.5445 - val_accuracy: 0.7352\n",
            "Epoch 25/100\n",
            "684/684 [==============================] - 3s 4ms/step - loss: 0.5464 - accuracy: 0.7320 - val_loss: 0.5432 - val_accuracy: 0.7362\n",
            "Epoch 26/100\n",
            "684/684 [==============================] - 3s 4ms/step - loss: 0.5461 - accuracy: 0.7313 - val_loss: 0.5446 - val_accuracy: 0.7349\n",
            "Epoch 27/100\n",
            "684/684 [==============================] - 2s 3ms/step - loss: 0.5458 - accuracy: 0.7326 - val_loss: 0.5445 - val_accuracy: 0.7372\n",
            "Epoch 28/100\n",
            "684/684 [==============================] - 2s 4ms/step - loss: 0.5459 - accuracy: 0.7337 - val_loss: 0.5438 - val_accuracy: 0.7357\n",
            "Epoch 29/100\n",
            "684/684 [==============================] - 2s 3ms/step - loss: 0.5452 - accuracy: 0.7316 - val_loss: 0.5448 - val_accuracy: 0.7339\n",
            "Epoch 30/100\n",
            "684/684 [==============================] - 2s 3ms/step - loss: 0.5455 - accuracy: 0.7301 - val_loss: 0.5437 - val_accuracy: 0.7346\n",
            "Epoch 31/100\n",
            "684/684 [==============================] - 2s 3ms/step - loss: 0.5452 - accuracy: 0.7320 - val_loss: 0.5453 - val_accuracy: 0.7357\n",
            "Epoch 32/100\n",
            "684/684 [==============================] - 2s 3ms/step - loss: 0.5450 - accuracy: 0.7330 - val_loss: 0.5451 - val_accuracy: 0.7336\n",
            "Epoch 33/100\n",
            "684/684 [==============================] - 2s 2ms/step - loss: 0.5451 - accuracy: 0.7325 - val_loss: 0.5463 - val_accuracy: 0.7346\n",
            "Epoch 34/100\n",
            "684/684 [==============================] - 2s 3ms/step - loss: 0.5447 - accuracy: 0.7330 - val_loss: 0.5455 - val_accuracy: 0.7344\n",
            "Epoch 35/100\n",
            "684/684 [==============================] - 2s 3ms/step - loss: 0.5443 - accuracy: 0.7330 - val_loss: 0.5427 - val_accuracy: 0.7367\n",
            "Epoch 36/100\n",
            "684/684 [==============================] - 2s 3ms/step - loss: 0.5440 - accuracy: 0.7334 - val_loss: 0.5438 - val_accuracy: 0.7344\n",
            "Epoch 37/100\n",
            "684/684 [==============================] - 2s 3ms/step - loss: 0.5438 - accuracy: 0.7335 - val_loss: 0.5438 - val_accuracy: 0.7354\n",
            "Epoch 38/100\n",
            "684/684 [==============================] - 2s 4ms/step - loss: 0.5439 - accuracy: 0.7337 - val_loss: 0.5430 - val_accuracy: 0.7362\n",
            "Epoch 39/100\n",
            "684/684 [==============================] - 2s 3ms/step - loss: 0.5436 - accuracy: 0.7345 - val_loss: 0.5424 - val_accuracy: 0.7359\n",
            "Epoch 40/100\n",
            "684/684 [==============================] - 2s 3ms/step - loss: 0.5438 - accuracy: 0.7333 - val_loss: 0.5425 - val_accuracy: 0.7378\n",
            "Epoch 41/100\n",
            "684/684 [==============================] - 2s 3ms/step - loss: 0.5436 - accuracy: 0.7331 - val_loss: 0.5428 - val_accuracy: 0.7357\n",
            "Epoch 42/100\n",
            "684/684 [==============================] - 2s 3ms/step - loss: 0.5434 - accuracy: 0.7340 - val_loss: 0.5440 - val_accuracy: 0.7357\n",
            "Epoch 43/100\n",
            "684/684 [==============================] - 2s 3ms/step - loss: 0.5429 - accuracy: 0.7336 - val_loss: 0.5459 - val_accuracy: 0.7349\n",
            "Epoch 44/100\n",
            "684/684 [==============================] - 3s 5ms/step - loss: 0.5434 - accuracy: 0.7335 - val_loss: 0.5445 - val_accuracy: 0.7357\n",
            "Epoch 45/100\n",
            "684/684 [==============================] - 2s 3ms/step - loss: 0.5432 - accuracy: 0.7333 - val_loss: 0.5445 - val_accuracy: 0.7362\n",
            "Epoch 46/100\n",
            "684/684 [==============================] - 2s 3ms/step - loss: 0.5430 - accuracy: 0.7338 - val_loss: 0.5421 - val_accuracy: 0.7383\n",
            "Epoch 47/100\n",
            "684/684 [==============================] - 2s 3ms/step - loss: 0.5429 - accuracy: 0.7337 - val_loss: 0.5439 - val_accuracy: 0.7282\n",
            "Epoch 48/100\n",
            "684/684 [==============================] - 2s 3ms/step - loss: 0.5429 - accuracy: 0.7338 - val_loss: 0.5425 - val_accuracy: 0.7372\n",
            "Epoch 49/100\n",
            "684/684 [==============================] - 2s 3ms/step - loss: 0.5427 - accuracy: 0.7342 - val_loss: 0.5422 - val_accuracy: 0.7349\n",
            "Epoch 50/100\n",
            "684/684 [==============================] - 2s 3ms/step - loss: 0.5428 - accuracy: 0.7338 - val_loss: 0.5432 - val_accuracy: 0.7359\n",
            "Epoch 51/100\n",
            "684/684 [==============================] - 3s 4ms/step - loss: 0.5427 - accuracy: 0.7336 - val_loss: 0.5444 - val_accuracy: 0.7370\n",
            "Epoch 52/100\n",
            "684/684 [==============================] - 2s 3ms/step - loss: 0.5425 - accuracy: 0.7343 - val_loss: 0.5427 - val_accuracy: 0.7359\n",
            "Epoch 53/100\n",
            "684/684 [==============================] - 2s 3ms/step - loss: 0.5424 - accuracy: 0.7338 - val_loss: 0.5450 - val_accuracy: 0.7354\n",
            "Epoch 54/100\n",
            "684/684 [==============================] - 3s 4ms/step - loss: 0.5423 - accuracy: 0.7334 - val_loss: 0.5435 - val_accuracy: 0.7362\n",
            "Epoch 55/100\n",
            "684/684 [==============================] - 2s 3ms/step - loss: 0.5427 - accuracy: 0.7341 - val_loss: 0.5442 - val_accuracy: 0.7354\n",
            "Epoch 56/100\n",
            "684/684 [==============================] - 2s 3ms/step - loss: 0.5422 - accuracy: 0.7336 - val_loss: 0.5438 - val_accuracy: 0.7357\n",
            "Epoch 57/100\n",
            "684/684 [==============================] - 3s 5ms/step - loss: 0.5425 - accuracy: 0.7330 - val_loss: 0.5447 - val_accuracy: 0.7357\n",
            "Epoch 58/100\n",
            "684/684 [==============================] - 2s 3ms/step - loss: 0.5422 - accuracy: 0.7340 - val_loss: 0.5438 - val_accuracy: 0.7346\n",
            "Epoch 59/100\n",
            "684/684 [==============================] - 2s 3ms/step - loss: 0.5417 - accuracy: 0.7346 - val_loss: 0.5455 - val_accuracy: 0.7339\n",
            "Epoch 60/100\n",
            "684/684 [==============================] - 2s 3ms/step - loss: 0.5419 - accuracy: 0.7345 - val_loss: 0.5448 - val_accuracy: 0.7359\n",
            "Epoch 61/100\n",
            "684/684 [==============================] - 2s 3ms/step - loss: 0.5419 - accuracy: 0.7345 - val_loss: 0.5416 - val_accuracy: 0.7344\n",
            "Epoch 62/100\n",
            "684/684 [==============================] - 2s 3ms/step - loss: 0.5419 - accuracy: 0.7328 - val_loss: 0.5431 - val_accuracy: 0.7362\n",
            "Epoch 63/100\n",
            "684/684 [==============================] - 2s 4ms/step - loss: 0.5415 - accuracy: 0.7356 - val_loss: 0.5443 - val_accuracy: 0.7365\n",
            "Epoch 64/100\n",
            "684/684 [==============================] - 2s 3ms/step - loss: 0.5415 - accuracy: 0.7357 - val_loss: 0.5447 - val_accuracy: 0.7339\n",
            "Epoch 65/100\n",
            "684/684 [==============================] - 2s 3ms/step - loss: 0.5416 - accuracy: 0.7347 - val_loss: 0.5466 - val_accuracy: 0.7336\n",
            "Epoch 66/100\n",
            "684/684 [==============================] - 3s 4ms/step - loss: 0.5417 - accuracy: 0.7349 - val_loss: 0.5474 - val_accuracy: 0.7344\n",
            "Epoch 67/100\n",
            "684/684 [==============================] - 3s 4ms/step - loss: 0.5421 - accuracy: 0.7345 - val_loss: 0.5432 - val_accuracy: 0.7352\n",
            "Epoch 68/100\n",
            "684/684 [==============================] - 4s 6ms/step - loss: 0.5416 - accuracy: 0.7336 - val_loss: 0.5452 - val_accuracy: 0.7346\n",
            "Epoch 69/100\n",
            "684/684 [==============================] - 2s 3ms/step - loss: 0.5412 - accuracy: 0.7340 - val_loss: 0.5458 - val_accuracy: 0.7352\n",
            "Epoch 70/100\n",
            "684/684 [==============================] - 3s 4ms/step - loss: 0.5415 - accuracy: 0.7344 - val_loss: 0.5432 - val_accuracy: 0.7326\n",
            "Epoch 71/100\n",
            "684/684 [==============================] - 3s 5ms/step - loss: 0.5414 - accuracy: 0.7342 - val_loss: 0.5445 - val_accuracy: 0.7305\n",
            "Epoch 72/100\n",
            "684/684 [==============================] - 2s 3ms/step - loss: 0.5415 - accuracy: 0.7346 - val_loss: 0.5425 - val_accuracy: 0.7354\n",
            "Epoch 73/100\n",
            "684/684 [==============================] - 2s 3ms/step - loss: 0.5414 - accuracy: 0.7339 - val_loss: 0.5447 - val_accuracy: 0.7367\n",
            "Epoch 74/100\n",
            "684/684 [==============================] - 3s 4ms/step - loss: 0.5412 - accuracy: 0.7334 - val_loss: 0.5428 - val_accuracy: 0.7365\n",
            "Epoch 75/100\n",
            "684/684 [==============================] - 2s 3ms/step - loss: 0.5414 - accuracy: 0.7344 - val_loss: 0.5443 - val_accuracy: 0.7357\n",
            "Epoch 76/100\n",
            "684/684 [==============================] - 2s 3ms/step - loss: 0.5410 - accuracy: 0.7343 - val_loss: 0.5425 - val_accuracy: 0.7365\n",
            "Epoch 77/100\n",
            "684/684 [==============================] - 2s 3ms/step - loss: 0.5411 - accuracy: 0.7351 - val_loss: 0.5439 - val_accuracy: 0.7318\n",
            "Epoch 78/100\n",
            "684/684 [==============================] - 2s 3ms/step - loss: 0.5408 - accuracy: 0.7354 - val_loss: 0.5456 - val_accuracy: 0.7352\n",
            "Epoch 79/100\n",
            "684/684 [==============================] - 2s 4ms/step - loss: 0.5409 - accuracy: 0.7341 - val_loss: 0.5436 - val_accuracy: 0.7352\n",
            "Epoch 80/100\n",
            "684/684 [==============================] - 2s 3ms/step - loss: 0.5413 - accuracy: 0.7342 - val_loss: 0.5446 - val_accuracy: 0.7362\n",
            "Epoch 81/100\n",
            "684/684 [==============================] - 2s 3ms/step - loss: 0.5412 - accuracy: 0.7342 - val_loss: 0.5444 - val_accuracy: 0.7367\n",
            "Epoch 82/100\n",
            "684/684 [==============================] - 2s 3ms/step - loss: 0.5411 - accuracy: 0.7348 - val_loss: 0.5424 - val_accuracy: 0.7359\n",
            "Epoch 83/100\n",
            "684/684 [==============================] - 2s 3ms/step - loss: 0.5405 - accuracy: 0.7357 - val_loss: 0.5455 - val_accuracy: 0.7313\n",
            "Epoch 84/100\n",
            "684/684 [==============================] - 2s 3ms/step - loss: 0.5408 - accuracy: 0.7355 - val_loss: 0.5447 - val_accuracy: 0.7339\n",
            "Epoch 85/100\n",
            "684/684 [==============================] - 2s 4ms/step - loss: 0.5405 - accuracy: 0.7358 - val_loss: 0.5460 - val_accuracy: 0.7346\n",
            "Epoch 86/100\n",
            "684/684 [==============================] - 2s 3ms/step - loss: 0.5408 - accuracy: 0.7357 - val_loss: 0.5444 - val_accuracy: 0.7354\n",
            "Epoch 87/100\n",
            "684/684 [==============================] - 2s 3ms/step - loss: 0.5407 - accuracy: 0.7344 - val_loss: 0.5456 - val_accuracy: 0.7352\n",
            "Epoch 88/100\n",
            "684/684 [==============================] - 3s 4ms/step - loss: 0.5410 - accuracy: 0.7336 - val_loss: 0.5437 - val_accuracy: 0.7354\n",
            "Epoch 89/100\n",
            "684/684 [==============================] - 2s 3ms/step - loss: 0.5407 - accuracy: 0.7351 - val_loss: 0.5435 - val_accuracy: 0.7365\n",
            "Epoch 90/100\n",
            "684/684 [==============================] - 2s 3ms/step - loss: 0.5407 - accuracy: 0.7342 - val_loss: 0.5440 - val_accuracy: 0.7349\n",
            "Epoch 91/100\n",
            "684/684 [==============================] - 2s 3ms/step - loss: 0.5406 - accuracy: 0.7360 - val_loss: 0.5436 - val_accuracy: 0.7352\n",
            "Epoch 92/100\n",
            "684/684 [==============================] - 2s 3ms/step - loss: 0.5405 - accuracy: 0.7349 - val_loss: 0.5430 - val_accuracy: 0.7370\n",
            "Epoch 93/100\n",
            "684/684 [==============================] - 2s 2ms/step - loss: 0.5409 - accuracy: 0.7341 - val_loss: 0.5438 - val_accuracy: 0.7378\n",
            "Epoch 94/100\n",
            "684/684 [==============================] - 2s 3ms/step - loss: 0.5404 - accuracy: 0.7344 - val_loss: 0.5434 - val_accuracy: 0.7284\n",
            "Epoch 95/100\n",
            "684/684 [==============================] - 2s 3ms/step - loss: 0.5404 - accuracy: 0.7349 - val_loss: 0.5423 - val_accuracy: 0.7365\n",
            "Epoch 96/100\n",
            "684/684 [==============================] - 2s 3ms/step - loss: 0.5402 - accuracy: 0.7332 - val_loss: 0.5461 - val_accuracy: 0.7354\n",
            "Epoch 97/100\n",
            "684/684 [==============================] - 2s 3ms/step - loss: 0.5404 - accuracy: 0.7359 - val_loss: 0.5446 - val_accuracy: 0.7352\n",
            "Epoch 98/100\n",
            "684/684 [==============================] - 3s 4ms/step - loss: 0.5405 - accuracy: 0.7350 - val_loss: 0.5436 - val_accuracy: 0.7352\n",
            "Epoch 99/100\n",
            "684/684 [==============================] - 2s 3ms/step - loss: 0.5403 - accuracy: 0.7367 - val_loss: 0.5443 - val_accuracy: 0.7362\n",
            "Epoch 100/100\n",
            "684/684 [==============================] - 2s 2ms/step - loss: 0.5402 - accuracy: 0.7353 - val_loss: 0.5441 - val_accuracy: 0.7362\n"
          ]
        }
      ]
    },
    {
      "cell_type": "code",
      "source": [
        "# Evaluate the model using the test data\n",
        "model_loss, model_accuracy = nn3.evaluate(X_test_scaled,y_test,verbose=2)\n",
        "print(f\"Loss: {model_loss}, Accuracy: {model_accuracy}\")"
      ],
      "metadata": {
        "id": "5XO_QTUzbn8-",
        "colab": {
          "base_uri": "https://localhost:8080/"
        },
        "outputId": "0ea467ae-5645-4bc9-c2d4-b93d7f1ee587"
      },
      "execution_count": null,
      "outputs": [
        {
          "output_type": "stream",
          "name": "stdout",
          "text": [
            "268/268 - 0s - loss: 0.5543 - accuracy: 0.7303 - 420ms/epoch - 2ms/step\n",
            "Loss: 0.5543237328529358, Accuracy: 0.7302623987197876\n"
          ]
        }
      ]
    },
    {
      "cell_type": "code",
      "source": [
        "# Plot the accuracy for easy visualization\n",
        "history3_df = pd.DataFrame(fit_model.history, index = range(1, len(fit_model.history['loss'])+1))\n",
        "history3_df.plot(y = 'accuracy')"
      ],
      "metadata": {
        "id": "i-FACxbobyd7",
        "colab": {
          "base_uri": "https://localhost:8080/",
          "height": 284
        },
        "outputId": "bc386816-3b72-485f-dd1f-4eb61ea55458"
      },
      "execution_count": null,
      "outputs": [
        {
          "output_type": "execute_result",
          "data": {
            "text/plain": [
              "<AxesSubplot:>"
            ]
          },
          "metadata": {},
          "execution_count": 72
        },
        {
          "output_type": "display_data",
          "data": {
            "text/plain": [
              "<Figure size 432x288 with 1 Axes>"
            ],
            "image/png": "[encoded data removed]"
          },
          "metadata": {
            "needs_background": "light"
          }
        }
      ]
    },
    {
      "cell_type": "code",
      "source": [
        "# Export our model to HDF5 file\n",
        "nn3.save('../h5Files/AlphabetSoupCharity3.h5')"
      ],
      "metadata": {
        "id": "O7vIeYPhbyNO"
      },
      "execution_count": null,
      "outputs": []
    },
    {
      "cell_type": "markdown",
      "source": [
        "3rd Attempt: still not at 75%; with a accuracy score of 73%.  Loss rate of .554.\n",
        "Added a 3 layer.\n",
        "Layer 1 - 7 with Relu; Layer 2 - 14 with Relu; Layer 3 - 21 with Relu\n",
        "100 epochs"
      ],
      "metadata": {
        "id": "5MfZB5V1M-OC"
      }
    },
    {
      "cell_type": "markdown",
      "source": [
        "### Attempt 4\n",
        "For attempt 4; I restarted my code by importing my data set as I am adjusting my binning."
      ],
      "metadata": {
        "id": "wPfg_EUSZNeb"
      }
    },
    {
      "cell_type": "code",
      "source": [
        "# URL for csv file\n",
        "url = \"https://raw.githubusercontent.com/MeganBlazevic/deep-learning-challenge/main/Resources/charity_data.csv\"\n",
        "\n",
        "# Import our dependencies\n",
        "from sklearn.model_selection import train_test_split\n",
        "from sklearn.preprocessing import StandardScaler\n",
        "import pandas as pd\n",
        "import tensorflow as tf"
      ],
      "metadata": {
        "id": "xRc8E4uWa1yP"
      },
      "execution_count": null,
      "outputs": []
    },
    {
      "cell_type": "code",
      "source": [
        "#  Import and read the charity_data.csv.\n",
        "application_df = pd.read_csv(url)\n",
        "\n",
        "# Drop the non-beneficial ID columns, 'EIN' and 'NAME'.\n",
        "application_df = application_df.drop(columns = ['EIN', 'NAME'])\n",
        "\n",
        "# Determine the number of unique values in each column.\n",
        "for x in application_df.columns:\n",
        "  print(x, len(application_df[x].unique()))\n",
        "\n",
        "  # Look at APPLICATION_TYPE value counts for binning\n",
        "counts = application_df['APPLICATION_TYPE'].value_counts()"
      ],
      "metadata": {
        "colab": {
          "base_uri": "https://localhost:8080/"
        },
        "id": "2SC7LwjQTh75",
        "outputId": "f842fc77-67dd-4ac8-80bc-46ae528deb04"
      },
      "execution_count": null,
      "outputs": [
        {
          "output_type": "stream",
          "name": "stdout",
          "text": [
            "APPLICATION_TYPE 17\n",
            "AFFILIATION 6\n",
            "CLASSIFICATION 71\n",
            "USE_CASE 5\n",
            "ORGANIZATION 4\n",
            "STATUS 2\n",
            "INCOME_AMT 9\n",
            "SPECIAL_CONSIDERATIONS 2\n",
            "ASK_AMT 8747\n",
            "IS_SUCCESSFUL 2\n"
          ]
        }
      ]
    },
    {
      "cell_type": "code",
      "source": [
        "# Choose a cutoff value and create a list of classifications to be replaced\n",
        "# use the variable name `classifications_to_replace`\n",
        "classifications_to_replace = list(count_binning[count_binning < 200].index)\n",
        "\n",
        "# Replace in dataframe\n",
        "for cls in classifications_to_replace:\n",
        "    application_df['CLASSIFICATION'] = application_df['CLASSIFICATION'].replace(cls,\"Other\")\n",
        "    \n",
        "# Check to make sure binning was successful\n",
        "application_df['CLASSIFICATION'].value_counts()"
      ],
      "metadata": {
        "colab": {
          "base_uri": "https://localhost:8080/"
        },
        "id": "WPMF2CfpM9uK",
        "outputId": "60ccbf08-b30b-414f-fb6c-2f92329cc3ae"
      },
      "execution_count": null,
      "outputs": [
        {
          "output_type": "execute_result",
          "data": {
            "text/plain": [
              "C1000    17326\n",
              "C2000     6074\n",
              "C1200     4837\n",
              "C3000     1918\n",
              "C2100     1883\n",
              "Other     1197\n",
              "C7000      777\n",
              "C1700      287\n",
              "Name: CLASSIFICATION, dtype: int64"
            ]
          },
          "metadata": {},
          "execution_count": 77
        }
      ]
    },
    {
      "cell_type": "code",
      "source": [
        "# Convert categorical data to numeric with `pd.get_dummies`\n",
        "application_df = pd.get_dummies(application_df)"
      ],
      "metadata": {
        "id": "ogycA3fsNUMd"
      },
      "execution_count": null,
      "outputs": []
    },
    {
      "cell_type": "code",
      "source": [
        "# Split our preprocessed data into our features and target arrays\n",
        "X = application_df.drop('IS_SUCCESSFUL', axis = 1).values\n",
        "y = application_df['IS_SUCCESSFUL'].values\n",
        "\n",
        "# Split the preprocessed data into a training and testing dataset\n",
        "X_train, X_test, y_train, y_test = train_test_split(X, y, random_state = 42)"
      ],
      "metadata": {
        "id": "RHf-mP_YNXPp"
      },
      "execution_count": null,
      "outputs": []
    },
    {
      "cell_type": "code",
      "source": [
        "# Create a StandardScaler instances\n",
        "scaler = StandardScaler()\n",
        "\n",
        "# Fit the StandardScaler\n",
        "X_scaler = scaler.fit(X_train)\n",
        "\n",
        "# Scale the data\n",
        "X_train_scaled = X_scaler.transform(X_train)\n",
        "X_test_scaled = X_scaler.transform(X_test)"
      ],
      "metadata": {
        "id": "biB9did7Na15"
      },
      "execution_count": null,
      "outputs": []
    },
    {
      "cell_type": "code",
      "source": [
        "# Define the model - deep neural net, i.e., the number of input features and hidden nodes for each layer.\n",
        "input_features = len(X_train_scaled[0])\n",
        "hidden_layer1 = 7\n",
        "hidden_layer2 = 14\n",
        "hidden_layer3 = 21\n",
        "\n",
        "nn4 = tf.keras.models.Sequential()\n",
        "\n",
        "# First hidden layer\n",
        "nn4.add(tf.keras.layers.Dense(units = hidden_layer1, input_dim = input_features, activation = 'relu'))\n",
        "\n",
        "# Second hidden layer\n",
        "nn4.add(tf.keras.layers.Dense(units = hidden_layer2, activation = 'relu'))\n",
        "\n",
        "# Output layer\n",
        "nn4.add(tf.keras.layers.Dense(units=1, activation = \"sigmoid\"))\n",
        "\n",
        "# Check the structure of the model\n",
        "nn4.summary()"
      ],
      "metadata": {
        "colab": {
          "base_uri": "https://localhost:8080/"
        },
        "id": "SGbQb6zdNi51",
        "outputId": "b5860b1a-141c-47af-974a-5a8d7e5cc851"
      },
      "execution_count": null,
      "outputs": [
        {
          "output_type": "stream",
          "name": "stdout",
          "text": [
            "Model: \"sequential_7\"\n",
            "_________________________________________________________________\n",
            " Layer (type)                Output Shape              Param #   \n",
            "=================================================================\n",
            " dense_19 (Dense)            (None, 7)                 378       \n",
            "                                                                 \n",
            " dense_20 (Dense)            (None, 14)                112       \n",
            "                                                                 \n",
            " dense_21 (Dense)            (None, 1)                 15        \n",
            "                                                                 \n",
            "=================================================================\n",
            "Total params: 505\n",
            "Trainable params: 505\n",
            "Non-trainable params: 0\n",
            "_________________________________________________________________\n"
          ]
        }
      ]
    },
    {
      "cell_type": "code",
      "source": [
        "# Compile the model\n",
        "nn4.compile(loss = 'binary_crossentropy', optimizer = 'adam', metrics=['accuracy'])"
      ],
      "metadata": {
        "id": "TbUnW8HaNmPm"
      },
      "execution_count": null,
      "outputs": []
    },
    {
      "cell_type": "code",
      "source": [
        "# Train the model\n",
        "fit_model = nn4.fit(X_train_scaled, y_train, validation_split = 0.15, epochs = 75)"
      ],
      "metadata": {
        "colab": {
          "base_uri": "https://localhost:8080/"
        },
        "id": "uoZ1e9gHNo6N",
        "outputId": "dd74a430-dc88-4a1b-ecac-d78c2bb77a68"
      },
      "execution_count": null,
      "outputs": [
        {
          "output_type": "stream",
          "name": "stdout",
          "text": [
            "Epoch 1/75\n",
            "684/684 [==============================] - 7s 6ms/step - loss: 0.6288 - accuracy: 0.6820 - val_loss: 0.5757 - val_accuracy: 0.7258\n",
            "Epoch 2/75\n",
            "684/684 [==============================] - 2s 3ms/step - loss: 0.5722 - accuracy: 0.7202 - val_loss: 0.5585 - val_accuracy: 0.7305\n",
            "Epoch 3/75\n",
            "684/684 [==============================] - 2s 2ms/step - loss: 0.5633 - accuracy: 0.7214 - val_loss: 0.5540 - val_accuracy: 0.7334\n",
            "Epoch 4/75\n",
            "684/684 [==============================] - 2s 3ms/step - loss: 0.5602 - accuracy: 0.7245 - val_loss: 0.5522 - val_accuracy: 0.7328\n",
            "Epoch 5/75\n",
            "684/684 [==============================] - 2s 4ms/step - loss: 0.5581 - accuracy: 0.7264 - val_loss: 0.5503 - val_accuracy: 0.7341\n",
            "Epoch 6/75\n",
            "684/684 [==============================] - 2s 3ms/step - loss: 0.5567 - accuracy: 0.7271 - val_loss: 0.5508 - val_accuracy: 0.7346\n",
            "Epoch 7/75\n",
            "684/684 [==============================] - 2s 3ms/step - loss: 0.5552 - accuracy: 0.7278 - val_loss: 0.5489 - val_accuracy: 0.7328\n",
            "Epoch 8/75\n",
            "684/684 [==============================] - 2s 2ms/step - loss: 0.5547 - accuracy: 0.7282 - val_loss: 0.5472 - val_accuracy: 0.7336\n",
            "Epoch 9/75\n",
            "684/684 [==============================] - 2s 3ms/step - loss: 0.5536 - accuracy: 0.7278 - val_loss: 0.5468 - val_accuracy: 0.7323\n",
            "Epoch 10/75\n",
            "684/684 [==============================] - 2s 2ms/step - loss: 0.5531 - accuracy: 0.7281 - val_loss: 0.5469 - val_accuracy: 0.7326\n",
            "Epoch 11/75\n",
            "684/684 [==============================] - 2s 2ms/step - loss: 0.5525 - accuracy: 0.7273 - val_loss: 0.5479 - val_accuracy: 0.7341\n",
            "Epoch 12/75\n",
            "684/684 [==============================] - 2s 3ms/step - loss: 0.5523 - accuracy: 0.7290 - val_loss: 0.5463 - val_accuracy: 0.7341\n",
            "Epoch 13/75\n",
            "684/684 [==============================] - 2s 3ms/step - loss: 0.5513 - accuracy: 0.7294 - val_loss: 0.5477 - val_accuracy: 0.7334\n",
            "Epoch 14/75\n",
            "684/684 [==============================] - 2s 2ms/step - loss: 0.5514 - accuracy: 0.7284 - val_loss: 0.5458 - val_accuracy: 0.7352\n",
            "Epoch 15/75\n",
            "684/684 [==============================] - 2s 3ms/step - loss: 0.5511 - accuracy: 0.7301 - val_loss: 0.5454 - val_accuracy: 0.7346\n",
            "Epoch 16/75\n",
            "684/684 [==============================] - 2s 3ms/step - loss: 0.5507 - accuracy: 0.7291 - val_loss: 0.5451 - val_accuracy: 0.7349\n",
            "Epoch 17/75\n",
            "684/684 [==============================] - 2s 3ms/step - loss: 0.5502 - accuracy: 0.7293 - val_loss: 0.5455 - val_accuracy: 0.7339\n",
            "Epoch 18/75\n",
            "684/684 [==============================] - 2s 2ms/step - loss: 0.5504 - accuracy: 0.7313 - val_loss: 0.5457 - val_accuracy: 0.7344\n",
            "Epoch 19/75\n",
            "684/684 [==============================] - 2s 4ms/step - loss: 0.5499 - accuracy: 0.7304 - val_loss: 0.5472 - val_accuracy: 0.7341\n",
            "Epoch 20/75\n",
            "684/684 [==============================] - 2s 3ms/step - loss: 0.5492 - accuracy: 0.7312 - val_loss: 0.5439 - val_accuracy: 0.7349\n",
            "Epoch 21/75\n",
            "684/684 [==============================] - 2s 3ms/step - loss: 0.5489 - accuracy: 0.7318 - val_loss: 0.5458 - val_accuracy: 0.7331\n",
            "Epoch 22/75\n",
            "684/684 [==============================] - 2s 2ms/step - loss: 0.5489 - accuracy: 0.7316 - val_loss: 0.5450 - val_accuracy: 0.7344\n",
            "Epoch 23/75\n",
            "684/684 [==============================] - 2s 3ms/step - loss: 0.5487 - accuracy: 0.7303 - val_loss: 0.5456 - val_accuracy: 0.7336\n",
            "Epoch 24/75\n",
            "684/684 [==============================] - 2s 2ms/step - loss: 0.5485 - accuracy: 0.7308 - val_loss: 0.5448 - val_accuracy: 0.7341\n",
            "Epoch 25/75\n",
            "684/684 [==============================] - 2s 2ms/step - loss: 0.5482 - accuracy: 0.7320 - val_loss: 0.5462 - val_accuracy: 0.7334\n",
            "Epoch 26/75\n",
            "684/684 [==============================] - 2s 4ms/step - loss: 0.5477 - accuracy: 0.7319 - val_loss: 0.5473 - val_accuracy: 0.7339\n",
            "Epoch 27/75\n",
            "684/684 [==============================] - 2s 3ms/step - loss: 0.5479 - accuracy: 0.7330 - val_loss: 0.5461 - val_accuracy: 0.7341\n",
            "Epoch 28/75\n",
            "684/684 [==============================] - 2s 2ms/step - loss: 0.5479 - accuracy: 0.7316 - val_loss: 0.5438 - val_accuracy: 0.7336\n",
            "Epoch 29/75\n",
            "684/684 [==============================] - 2s 2ms/step - loss: 0.5477 - accuracy: 0.7319 - val_loss: 0.5440 - val_accuracy: 0.7336\n",
            "Epoch 30/75\n",
            "684/684 [==============================] - 2s 2ms/step - loss: 0.5473 - accuracy: 0.7309 - val_loss: 0.5440 - val_accuracy: 0.7354\n",
            "Epoch 31/75\n",
            "684/684 [==============================] - 2s 2ms/step - loss: 0.5475 - accuracy: 0.7320 - val_loss: 0.5448 - val_accuracy: 0.7334\n",
            "Epoch 32/75\n",
            "684/684 [==============================] - 2s 2ms/step - loss: 0.5474 - accuracy: 0.7318 - val_loss: 0.5476 - val_accuracy: 0.7339\n",
            "Epoch 33/75\n",
            "684/684 [==============================] - 2s 3ms/step - loss: 0.5469 - accuracy: 0.7324 - val_loss: 0.5451 - val_accuracy: 0.7344\n",
            "Epoch 34/75\n",
            "684/684 [==============================] - 2s 3ms/step - loss: 0.5473 - accuracy: 0.7315 - val_loss: 0.5448 - val_accuracy: 0.7359\n",
            "Epoch 35/75\n",
            "684/684 [==============================] - 2s 3ms/step - loss: 0.5473 - accuracy: 0.7327 - val_loss: 0.5459 - val_accuracy: 0.7344\n",
            "Epoch 36/75\n",
            "684/684 [==============================] - 2s 2ms/step - loss: 0.5477 - accuracy: 0.7323 - val_loss: 0.5440 - val_accuracy: 0.7336\n",
            "Epoch 37/75\n",
            "684/684 [==============================] - 2s 3ms/step - loss: 0.5470 - accuracy: 0.7323 - val_loss: 0.5472 - val_accuracy: 0.7339\n",
            "Epoch 38/75\n",
            "684/684 [==============================] - 2s 2ms/step - loss: 0.5468 - accuracy: 0.7326 - val_loss: 0.5437 - val_accuracy: 0.7357\n",
            "Epoch 39/75\n",
            "684/684 [==============================] - 2s 3ms/step - loss: 0.5469 - accuracy: 0.7320 - val_loss: 0.5437 - val_accuracy: 0.7352\n",
            "Epoch 40/75\n",
            "684/684 [==============================] - 2s 3ms/step - loss: 0.5464 - accuracy: 0.7320 - val_loss: 0.5459 - val_accuracy: 0.7334\n",
            "Epoch 41/75\n",
            "684/684 [==============================] - 2s 3ms/step - loss: 0.5466 - accuracy: 0.7325 - val_loss: 0.5438 - val_accuracy: 0.7357\n",
            "Epoch 42/75\n",
            "684/684 [==============================] - 2s 3ms/step - loss: 0.5467 - accuracy: 0.7324 - val_loss: 0.5436 - val_accuracy: 0.7352\n",
            "Epoch 43/75\n",
            "684/684 [==============================] - 2s 2ms/step - loss: 0.5462 - accuracy: 0.7318 - val_loss: 0.5443 - val_accuracy: 0.7346\n",
            "Epoch 44/75\n",
            "684/684 [==============================] - 2s 3ms/step - loss: 0.5467 - accuracy: 0.7320 - val_loss: 0.5444 - val_accuracy: 0.7344\n",
            "Epoch 45/75\n",
            "684/684 [==============================] - 2s 3ms/step - loss: 0.5464 - accuracy: 0.7323 - val_loss: 0.5436 - val_accuracy: 0.7346\n",
            "Epoch 46/75\n",
            "684/684 [==============================] - 2s 2ms/step - loss: 0.5462 - accuracy: 0.7325 - val_loss: 0.5454 - val_accuracy: 0.7344\n",
            "Epoch 47/75\n",
            "684/684 [==============================] - 2s 3ms/step - loss: 0.5460 - accuracy: 0.7317 - val_loss: 0.5442 - val_accuracy: 0.7315\n",
            "Epoch 48/75\n",
            "684/684 [==============================] - 2s 3ms/step - loss: 0.5465 - accuracy: 0.7324 - val_loss: 0.5435 - val_accuracy: 0.7334\n",
            "Epoch 49/75\n",
            "684/684 [==============================] - 2s 2ms/step - loss: 0.5462 - accuracy: 0.7324 - val_loss: 0.5456 - val_accuracy: 0.7328\n",
            "Epoch 50/75\n",
            "684/684 [==============================] - 2s 2ms/step - loss: 0.5461 - accuracy: 0.7315 - val_loss: 0.5464 - val_accuracy: 0.7331\n",
            "Epoch 51/75\n",
            "684/684 [==============================] - 2s 3ms/step - loss: 0.5460 - accuracy: 0.7319 - val_loss: 0.5450 - val_accuracy: 0.7315\n",
            "Epoch 52/75\n",
            "684/684 [==============================] - 2s 2ms/step - loss: 0.5464 - accuracy: 0.7320 - val_loss: 0.5434 - val_accuracy: 0.7352\n",
            "Epoch 53/75\n",
            "684/684 [==============================] - 2s 2ms/step - loss: 0.5460 - accuracy: 0.7325 - val_loss: 0.5450 - val_accuracy: 0.7341\n",
            "Epoch 54/75\n",
            "684/684 [==============================] - 2s 4ms/step - loss: 0.5459 - accuracy: 0.7325 - val_loss: 0.5452 - val_accuracy: 0.7344\n",
            "Epoch 55/75\n",
            "684/684 [==============================] - 2s 3ms/step - loss: 0.5458 - accuracy: 0.7330 - val_loss: 0.5453 - val_accuracy: 0.7336\n",
            "Epoch 56/75\n",
            "684/684 [==============================] - 2s 3ms/step - loss: 0.5458 - accuracy: 0.7333 - val_loss: 0.5454 - val_accuracy: 0.7339\n",
            "Epoch 57/75\n",
            "684/684 [==============================] - 2s 3ms/step - loss: 0.5458 - accuracy: 0.7318 - val_loss: 0.5438 - val_accuracy: 0.7346\n",
            "Epoch 58/75\n",
            "684/684 [==============================] - 2s 2ms/step - loss: 0.5460 - accuracy: 0.7330 - val_loss: 0.5443 - val_accuracy: 0.7336\n",
            "Epoch 59/75\n",
            "684/684 [==============================] - 2s 2ms/step - loss: 0.5455 - accuracy: 0.7324 - val_loss: 0.5453 - val_accuracy: 0.7339\n",
            "Epoch 60/75\n",
            "684/684 [==============================] - 2s 2ms/step - loss: 0.5455 - accuracy: 0.7334 - val_loss: 0.5452 - val_accuracy: 0.7326\n",
            "Epoch 61/75\n",
            "684/684 [==============================] - 2s 3ms/step - loss: 0.5451 - accuracy: 0.7337 - val_loss: 0.5463 - val_accuracy: 0.7334\n",
            "Epoch 62/75\n",
            "684/684 [==============================] - 2s 3ms/step - loss: 0.5458 - accuracy: 0.7327 - val_loss: 0.5451 - val_accuracy: 0.7336\n",
            "Epoch 63/75\n",
            "684/684 [==============================] - 2s 3ms/step - loss: 0.5458 - accuracy: 0.7329 - val_loss: 0.5443 - val_accuracy: 0.7336\n",
            "Epoch 64/75\n",
            "684/684 [==============================] - 2s 3ms/step - loss: 0.5454 - accuracy: 0.7331 - val_loss: 0.5462 - val_accuracy: 0.7354\n",
            "Epoch 65/75\n",
            "684/684 [==============================] - 2s 2ms/step - loss: 0.5459 - accuracy: 0.7327 - val_loss: 0.5440 - val_accuracy: 0.7331\n",
            "Epoch 66/75\n",
            "684/684 [==============================] - 2s 3ms/step - loss: 0.5454 - accuracy: 0.7322 - val_loss: 0.5453 - val_accuracy: 0.7328\n",
            "Epoch 67/75\n",
            "684/684 [==============================] - 2s 2ms/step - loss: 0.5456 - accuracy: 0.7335 - val_loss: 0.5433 - val_accuracy: 0.7341\n",
            "Epoch 68/75\n",
            "684/684 [==============================] - 2s 4ms/step - loss: 0.5456 - accuracy: 0.7331 - val_loss: 0.5451 - val_accuracy: 0.7326\n",
            "Epoch 69/75\n",
            "684/684 [==============================] - 2s 3ms/step - loss: 0.5454 - accuracy: 0.7331 - val_loss: 0.5459 - val_accuracy: 0.7336\n",
            "Epoch 70/75\n",
            "684/684 [==============================] - 2s 3ms/step - loss: 0.5455 - accuracy: 0.7329 - val_loss: 0.5449 - val_accuracy: 0.7331\n",
            "Epoch 71/75\n",
            "684/684 [==============================] - 2s 3ms/step - loss: 0.5452 - accuracy: 0.7338 - val_loss: 0.5441 - val_accuracy: 0.7323\n",
            "Epoch 72/75\n",
            "684/684 [==============================] - 2s 3ms/step - loss: 0.5452 - accuracy: 0.7327 - val_loss: 0.5440 - val_accuracy: 0.7349\n",
            "Epoch 73/75\n",
            "684/684 [==============================] - 2s 3ms/step - loss: 0.5451 - accuracy: 0.7342 - val_loss: 0.5452 - val_accuracy: 0.7346\n",
            "Epoch 74/75\n",
            "684/684 [==============================] - 2s 3ms/step - loss: 0.5451 - accuracy: 0.7339 - val_loss: 0.5466 - val_accuracy: 0.7344\n",
            "Epoch 75/75\n",
            "684/684 [==============================] - 2s 4ms/step - loss: 0.5450 - accuracy: 0.7333 - val_loss: 0.5445 - val_accuracy: 0.7336\n"
          ]
        }
      ]
    },
    {
      "cell_type": "code",
      "source": [
        "# Evaluate the model using the test data\n",
        "model_loss, model_accuracy = nn4.evaluate(X_test_scaled,y_test,verbose=2)\n",
        "print(f\"Loss: {model_loss}, Accuracy: {model_accuracy}\")"
      ],
      "metadata": {
        "colab": {
          "base_uri": "https://localhost:8080/"
        },
        "id": "sTpWmjHvNqte",
        "outputId": "cca3d57d-e798-497b-b862-258e0c20f723"
      },
      "execution_count": null,
      "outputs": [
        {
          "output_type": "stream",
          "name": "stdout",
          "text": [
            "268/268 - 0s - loss: 0.5534 - accuracy: 0.7296 - 418ms/epoch - 2ms/step\n",
            "Loss: 0.5534141063690186, Accuracy: 0.7295626997947693\n"
          ]
        }
      ]
    },
    {
      "cell_type": "code",
      "source": [
        "# Plot the accuracy for easy visualization\n",
        "history4_df = pd.DataFrame(fit_model.history, index = range(1, len(fit_model.history['loss'])+1))\n",
        "history4_df.plot(y = 'accuracy')"
      ],
      "metadata": {
        "colab": {
          "base_uri": "https://localhost:8080/",
          "height": 282
        },
        "id": "CmKyfK5UNsnh",
        "outputId": "c0095f0c-7180-4764-ae7d-67f29750e34b"
      },
      "execution_count": null,
      "outputs": [
        {
          "output_type": "execute_result",
          "data": {
            "text/plain": [
              "<AxesSubplot:>"
            ]
          },
          "metadata": {},
          "execution_count": 85
        },
        {
          "output_type": "display_data",
          "data": {
            "text/plain": [
              "<Figure size 432x288 with 1 Axes>"
            ],
            "image/png": "[encoded data removed]"
          },
          "metadata": {
            "needs_background": "light"
          }
        }
      ]
    },
    {
      "cell_type": "code",
      "source": [
        "# Export our model to HDF5 file\n",
        "nn4.save('../h5Files/AlphabetSoupCharity4.h5')"
      ],
      "metadata": {
        "id": "SlMyCtTUNuWd"
      },
      "execution_count": null,
      "outputs": []
    },
    {
      "cell_type": "markdown",
      "source": [
        "Attempt 4. Decreasing the number of binning; did not solve the issue as hoped.\n",
        "Accuracy rate of 72.9%; loss rate of .553"
      ],
      "metadata": {
        "id": "miWHeCI-PUug"
      }
    },
    {
      "cell_type": "markdown",
      "source": [
        "### Attempt 5 | Final Hope\n",
        "For this attempt, I restarted running the code from the begining, as I am not dropping all of the original columns that were originally deemed unnecesary - in attempt to get over the 75% accurancy rate threshold. "
      ],
      "metadata": {
        "id": "6b_ngRlIZYse"
      }
    },
    {
      "cell_type": "code",
      "source": [
        "# URL for csv file\n",
        "url = \"https://raw.githubusercontent.com/MeganBlazevic/deep-learning-challenge/main/Resources/charity_data.csv\"\n",
        "\n",
        "# Import our dependencies\n",
        "from sklearn.model_selection import train_test_split\n",
        "from sklearn.preprocessing import StandardScaler\n",
        "import pandas as pd\n",
        "import tensorflow as tf\n",
        "\n",
        "#  Read the charity_data.csv.\n",
        "application_df = pd.read_csv(url)"
      ],
      "metadata": {
        "id": "RRFiRYS0aKzG"
      },
      "execution_count": null,
      "outputs": []
    },
    {
      "cell_type": "code",
      "source": [
        "# Drop the non-beneficial ID columns, see what happens if I keep the name column in it\n",
        "application_df = application_df.drop(columns = ['EIN'])\n",
        "\n",
        "# Determine the number of unique values in each column.\n",
        "for x in application_df.columns:\n",
        "  print(x, len(application_df[x].unique()))\n",
        "\n",
        "  # Look at APPLICATION_TYPE value counts for binning\n",
        "countsName = application_df['NAME'].value_counts()\n",
        "countsName"
      ],
      "metadata": {
        "colab": {
          "base_uri": "https://localhost:8080/"
        },
        "id": "PZmntvapVziO",
        "outputId": "958eef1b-69a5-4d6f-b857-4a300a23ff19"
      },
      "execution_count": null,
      "outputs": [
        {
          "output_type": "stream",
          "name": "stdout",
          "text": [
            "NAME 19568\n",
            "APPLICATION_TYPE 17\n",
            "AFFILIATION 6\n",
            "CLASSIFICATION 71\n",
            "USE_CASE 5\n",
            "ORGANIZATION 4\n",
            "STATUS 2\n",
            "INCOME_AMT 9\n",
            "SPECIAL_CONSIDERATIONS 2\n",
            "ASK_AMT 8747\n",
            "IS_SUCCESSFUL 2\n"
          ]
        },
        {
          "output_type": "execute_result",
          "data": {
            "text/plain": [
              "PARENT BOOSTER USA INC                                                  1260\n",
              "TOPS CLUB INC                                                            765\n",
              "UNITED STATES BOWLING CONGRESS INC                                       700\n",
              "WASHINGTON STATE UNIVERSITY                                              492\n",
              "AMATEUR ATHLETIC UNION OF THE UNITED STATES INC                          408\n",
              "                                                                        ... \n",
              "ST LOUIS SLAM WOMENS FOOTBALL                                              1\n",
              "AIESEC ALUMNI IBEROAMERICA CORP                                            1\n",
              "WEALLBLEEDRED ORG INC                                                      1\n",
              "AMERICAN SOCIETY FOR STANDARDS IN MEDIUMSHIP & PSYCHICAL INVESTIGATI       1\n",
              "WATERHOUSE CHARITABLE TR                                                   1\n",
              "Name: NAME, Length: 19568, dtype: int64"
            ]
          },
          "metadata": {},
          "execution_count": 3
        }
      ]
    },
    {
      "cell_type": "code",
      "source": [
        "# Choose a cutoff value and create a list of application types to be replaced\n",
        "# use the variable name `application_types_to_replace`\n",
        "names_to_replace = list(countsName[countsName<500].index)"
      ],
      "metadata": {
        "id": "178eCb_NP0_Y"
      },
      "execution_count": null,
      "outputs": []
    },
    {
      "cell_type": "code",
      "source": [
        "# Replace in dataframe\n",
        "for name in names_to_replace:\n",
        "  application_df['NAME'] = application_df['NAME'].replace(name,\"Other\")\n",
        "\n",
        "# Check to make sure binning was successful\n",
        "application_df['NAME'].value_counts()"
      ],
      "metadata": {
        "colab": {
          "base_uri": "https://localhost:8080/"
        },
        "id": "24kx4CRmbXVu",
        "outputId": "2c053b50-4a0f-41cc-80fd-6b21c7ce11c8"
      },
      "execution_count": null,
      "outputs": [
        {
          "output_type": "execute_result",
          "data": {
            "text/plain": [
              "Other                                 31574\n",
              "PARENT BOOSTER USA INC                 1260\n",
              "TOPS CLUB INC                           765\n",
              "UNITED STATES BOWLING CONGRESS INC      700\n",
              "Name: NAME, dtype: int64"
            ]
          },
          "metadata": {},
          "execution_count": 6
        }
      ]
    },
    {
      "cell_type": "code",
      "source": [
        "# Look at CLASSIFICATION value counts for binning\n",
        "count_binning = application_df['CLASSIFICATION'].value_counts()\n",
        "\n",
        "# Choose a cutoff value and create a list of classifications to be replaced\n",
        "# use the variable name `classifications_to_replace`\n",
        "classifications_to_replace = list(count_binning[count_binning < 100].index)\n",
        "\n",
        "# Replace in dataframe\n",
        "for cls in classifications_to_replace:\n",
        "    application_df['CLASSIFICATION'] = application_df['CLASSIFICATION'].replace(cls,\"Other\")\n",
        "    \n",
        "# Check to make sure binning was successful\n",
        "application_df['CLASSIFICATION'].value_counts()"
      ],
      "metadata": {
        "colab": {
          "base_uri": "https://localhost:8080/"
        },
        "id": "aMccSBsIP4Ec",
        "outputId": "a65d628a-9631-4c4c-ccc9-aade51f0aa2e"
      },
      "execution_count": null,
      "outputs": [
        {
          "output_type": "execute_result",
          "data": {
            "text/plain": [
              "C1000    17326\n",
              "C2000     6074\n",
              "C1200     4837\n",
              "C3000     1918\n",
              "C2100     1883\n",
              "C7000      777\n",
              "Other      669\n",
              "C1700      287\n",
              "C4000      194\n",
              "C5000      116\n",
              "C1270      114\n",
              "C2700      104\n",
              "Name: CLASSIFICATION, dtype: int64"
            ]
          },
          "metadata": {},
          "execution_count": 7
        }
      ]
    },
    {
      "cell_type": "code",
      "source": [
        "# Convert categorical data to numeric with `pd.get_dummies`\n",
        "application_df = pd.get_dummies(application_df, dtype=float)\n",
        "application_df.head()"
      ],
      "metadata": {
        "colab": {
          "base_uri": "https://localhost:8080/",
          "height": 369
        },
        "id": "UbkC05sBcI2w",
        "outputId": "e32e2d27-1f5f-4f58-fd49-2153c6921784"
      },
      "execution_count": null,
      "outputs": [
        {
          "output_type": "execute_result",
          "data": {
            "text/plain": [
              "   STATUS  ASK_AMT  IS_SUCCESSFUL  NAME_Other  NAME_PARENT BOOSTER USA INC  \\\n",
              "0       1     5000              1         1.0                          0.0   \n",
              "1       1   108590              1         1.0                          0.0   \n",
              "2       1     5000              0         1.0                          0.0   \n",
              "3       1     6692              1         1.0                          0.0   \n",
              "4       1   142590              1         1.0                          0.0   \n",
              "\n",
              "   NAME_TOPS CLUB INC  NAME_UNITED STATES BOWLING CONGRESS INC  \\\n",
              "0                 0.0                                      0.0   \n",
              "1                 0.0                                      0.0   \n",
              "2                 0.0                                      0.0   \n",
              "3                 0.0                                      0.0   \n",
              "4                 0.0                                      0.0   \n",
              "\n",
              "   APPLICATION_TYPE_T10  APPLICATION_TYPE_T12  APPLICATION_TYPE_T13  ...  \\\n",
              "0                   1.0                   0.0                   0.0  ...   \n",
              "1                   0.0                   0.0                   0.0  ...   \n",
              "2                   0.0                   0.0                   0.0  ...   \n",
              "3                   0.0                   0.0                   0.0  ...   \n",
              "4                   0.0                   0.0                   0.0  ...   \n",
              "\n",
              "   INCOME_AMT_1-9999  INCOME_AMT_10000-24999  INCOME_AMT_100000-499999  \\\n",
              "0                0.0                     0.0                       0.0   \n",
              "1                1.0                     0.0                       0.0   \n",
              "2                0.0                     0.0                       0.0   \n",
              "3                0.0                     1.0                       0.0   \n",
              "4                0.0                     0.0                       1.0   \n",
              "\n",
              "   INCOME_AMT_10M-50M  INCOME_AMT_1M-5M  INCOME_AMT_25000-99999  \\\n",
              "0                 0.0               0.0                     0.0   \n",
              "1                 0.0               0.0                     0.0   \n",
              "2                 0.0               0.0                     0.0   \n",
              "3                 0.0               0.0                     0.0   \n",
              "4                 0.0               0.0                     0.0   \n",
              "\n",
              "   INCOME_AMT_50M+  INCOME_AMT_5M-10M  SPECIAL_CONSIDERATIONS_N  \\\n",
              "0              0.0                0.0                       1.0   \n",
              "1              0.0                0.0                       1.0   \n",
              "2              0.0                0.0                       1.0   \n",
              "3              0.0                0.0                       1.0   \n",
              "4              0.0                0.0                       1.0   \n",
              "\n",
              "   SPECIAL_CONSIDERATIONS_Y  \n",
              "0                       0.0  \n",
              "1                       0.0  \n",
              "2                       0.0  \n",
              "3                       0.0  \n",
              "4                       0.0  \n",
              "\n",
              "[5 rows x 62 columns]"
            ],
            "text/html": [
              "\n",
              "  <div id=\"df-723af6a5-badc-4c4b-a24a-4c93c56b02dd\">\n",
              "    <div class=\"colab-df-container\">\n",
              "      <div>\n",
              "<style scoped>\n",
              "    .dataframe tbody tr th:only-of-type {\n",
              "        vertical-align: middle;\n",
              "    }\n",
              "\n",
              "    .dataframe tbody tr th {\n",
              "        vertical-align: top;\n",
              "    }\n",
              "\n",
              "    .dataframe thead th {\n",
              "        text-align: right;\n",
              "    }\n",
              "</style>\n",
              "<table border=\"1\" class=\"dataframe\">\n",
              "  <thead>\n",
              "    <tr style=\"text-align: right;\">\n",
              "      <th></th>\n",
              "      <th>STATUS</th>\n",
              "      <th>ASK_AMT</th>\n",
              "      <th>IS_SUCCESSFUL</th>\n",
              "      <th>NAME_Other</th>\n",
              "      <th>NAME_PARENT BOOSTER USA INC</th>\n",
              "      <th>NAME_TOPS CLUB INC</th>\n",
              "      <th>NAME_UNITED STATES BOWLING CONGRESS INC</th>\n",
              "      <th>APPLICATION_TYPE_T10</th>\n",
              "      <th>APPLICATION_TYPE_T12</th>\n",
              "      <th>APPLICATION_TYPE_T13</th>\n",
              "      <th>...</th>\n",
              "      <th>INCOME_AMT_1-9999</th>\n",
              "      <th>INCOME_AMT_10000-24999</th>\n",
              "      <th>INCOME_AMT_100000-499999</th>\n",
              "      <th>INCOME_AMT_10M-50M</th>\n",
              "      <th>INCOME_AMT_1M-5M</th>\n",
              "      <th>INCOME_AMT_25000-99999</th>\n",
              "      <th>INCOME_AMT_50M+</th>\n",
              "      <th>INCOME_AMT_5M-10M</th>\n",
              "      <th>SPECIAL_CONSIDERATIONS_N</th>\n",
              "      <th>SPECIAL_CONSIDERATIONS_Y</th>\n",
              "    </tr>\n",
              "  </thead>\n",
              "  <tbody>\n",
              "    <tr>\n",
              "      <th>0</th>\n",
              "      <td>1</td>\n",
              "      <td>5000</td>\n",
              "      <td>1</td>\n",
              "      <td>1.0</td>\n",
              "      <td>0.0</td>\n",
              "      <td>0.0</td>\n",
              "      <td>0.0</td>\n",
              "      <td>1.0</td>\n",
              "      <td>0.0</td>\n",
              "      <td>0.0</td>\n",
              "      <td>...</td>\n",
              "      <td>0.0</td>\n",
              "      <td>0.0</td>\n",
              "      <td>0.0</td>\n",
              "      <td>0.0</td>\n",
              "      <td>0.0</td>\n",
              "      <td>0.0</td>\n",
              "      <td>0.0</td>\n",
              "      <td>0.0</td>\n",
              "      <td>1.0</td>\n",
              "      <td>0.0</td>\n",
              "    </tr>\n",
              "    <tr>\n",
              "      <th>1</th>\n",
              "      <td>1</td>\n",
              "      <td>108590</td>\n",
              "      <td>1</td>\n",
              "      <td>1.0</td>\n",
              "      <td>0.0</td>\n",
              "      <td>0.0</td>\n",
              "      <td>0.0</td>\n",
              "      <td>0.0</td>\n",
              "      <td>0.0</td>\n",
              "      <td>0.0</td>\n",
              "      <td>...</td>\n",
              "      <td>1.0</td>\n",
              "      <td>0.0</td>\n",
              "      <td>0.0</td>\n",
              "      <td>0.0</td>\n",
              "      <td>0.0</td>\n",
              "      <td>0.0</td>\n",
              "      <td>0.0</td>\n",
              "      <td>0.0</td>\n",
              "      <td>1.0</td>\n",
              "      <td>0.0</td>\n",
              "    </tr>\n",
              "    <tr>\n",
              "      <th>2</th>\n",
              "      <td>1</td>\n",
              "      <td>5000</td>\n",
              "      <td>0</td>\n",
              "      <td>1.0</td>\n",
              "      <td>0.0</td>\n",
              "      <td>0.0</td>\n",
              "      <td>0.0</td>\n",
              "      <td>0.0</td>\n",
              "      <td>0.0</td>\n",
              "      <td>0.0</td>\n",
              "      <td>...</td>\n",
              "      <td>0.0</td>\n",
              "      <td>0.0</td>\n",
              "      <td>0.0</td>\n",
              "      <td>0.0</td>\n",
              "      <td>0.0</td>\n",
              "      <td>0.0</td>\n",
              "      <td>0.0</td>\n",
              "      <td>0.0</td>\n",
              "      <td>1.0</td>\n",
              "      <td>0.0</td>\n",
              "    </tr>\n",
              "    <tr>\n",
              "      <th>3</th>\n",
              "      <td>1</td>\n",
              "      <td>6692</td>\n",
              "      <td>1</td>\n",
              "      <td>1.0</td>\n",
              "      <td>0.0</td>\n",
              "      <td>0.0</td>\n",
              "      <td>0.0</td>\n",
              "      <td>0.0</td>\n",
              "      <td>0.0</td>\n",
              "      <td>0.0</td>\n",
              "      <td>...</td>\n",
              "      <td>0.0</td>\n",
              "      <td>1.0</td>\n",
              "      <td>0.0</td>\n",
              "      <td>0.0</td>\n",
              "      <td>0.0</td>\n",
              "      <td>0.0</td>\n",
              "      <td>0.0</td>\n",
              "      <td>0.0</td>\n",
              "      <td>1.0</td>\n",
              "      <td>0.0</td>\n",
              "    </tr>\n",
              "    <tr>\n",
              "      <th>4</th>\n",
              "      <td>1</td>\n",
              "      <td>142590</td>\n",
              "      <td>1</td>\n",
              "      <td>1.0</td>\n",
              "      <td>0.0</td>\n",
              "      <td>0.0</td>\n",
              "      <td>0.0</td>\n",
              "      <td>0.0</td>\n",
              "      <td>0.0</td>\n",
              "      <td>0.0</td>\n",
              "      <td>...</td>\n",
              "      <td>0.0</td>\n",
              "      <td>0.0</td>\n",
              "      <td>1.0</td>\n",
              "      <td>0.0</td>\n",
              "      <td>0.0</td>\n",
              "      <td>0.0</td>\n",
              "      <td>0.0</td>\n",
              "      <td>0.0</td>\n",
              "      <td>1.0</td>\n",
              "      <td>0.0</td>\n",
              "    </tr>\n",
              "  </tbody>\n",
              "</table>\n",
              "<p>5 rows × 62 columns</p>\n",
              "</div>\n",
              "      <button class=\"colab-df-convert\" onclick=\"convertToInteractive('df-723af6a5-badc-4c4b-a24a-4c93c56b02dd')\"\n",
              "              title=\"Convert this dataframe to an interactive table.\"\n",
              "              style=\"display:none;\">\n",
              "        \n",
              "  <svg xmlns=\"http://www.w3.org/2000/svg\" height=\"24px\"viewBox=\"0 0 24 24\"\n",
              "       width=\"24px\">\n",
              "    <path d=\"M0 0h24v24H0V0z\" fill=\"none\"/>\n",
              "    <path d=\"M18.56 5.44l.94 2.06.94-2.06 2.06-.94-2.06-.94-.94-2.06-.94 2.06-2.06.94zm-11 1L8.5 8.5l.94-2.06 2.06-.94-2.06-.94L8.5 2.5l-.94 2.06-2.06.94zm10 10l.94 2.06.94-2.06 2.06-.94-2.06-.94-.94-2.06-.94 2.06-2.06.94z\"/><path d=\"M17.41 7.96l-1.37-1.37c-.4-.4-.92-.59-1.43-.59-.52 0-1.04.2-1.43.59L10.3 9.45l-7.72 7.72c-.78.78-.78 2.05 0 2.83L4 21.41c.39.39.9.59 1.41.59.51 0 1.02-.2 1.41-.59l7.78-7.78 2.81-2.81c.8-.78.8-2.07 0-2.86zM5.41 20L4 18.59l7.72-7.72 1.47 1.35L5.41 20z\"/>\n",
              "  </svg>\n",
              "      </button>\n",
              "      \n",
              "  <style>\n",
              "    .colab-df-container {\n",
              "      display:flex;\n",
              "      flex-wrap:wrap;\n",
              "      gap: 12px;\n",
              "    }\n",
              "\n",
              "    .colab-df-convert {\n",
              "      background-color: #E8F0FE;\n",
              "      border: none;\n",
              "      border-radius: 50%;\n",
              "      cursor: pointer;\n",
              "      display: none;\n",
              "      fill: #1967D2;\n",
              "      height: 32px;\n",
              "      padding: 0 0 0 0;\n",
              "      width: 32px;\n",
              "    }\n",
              "\n",
              "    .colab-df-convert:hover {\n",
              "      background-color: #E2EBFA;\n",
              "      box-shadow: 0px 1px 2px rgba(60, 64, 67, 0.3), 0px 1px 3px 1px rgba(60, 64, 67, 0.15);\n",
              "      fill: #174EA6;\n",
              "    }\n",
              "\n",
              "    [theme=dark] .colab-df-convert {\n",
              "      background-color: #3B4455;\n",
              "      fill: #D2E3FC;\n",
              "    }\n",
              "\n",
              "    [theme=dark] .colab-df-convert:hover {\n",
              "      background-color: #434B5C;\n",
              "      box-shadow: 0px 1px 3px 1px rgba(0, 0, 0, 0.15);\n",
              "      filter: drop-shadow(0px 1px 2px rgba(0, 0, 0, 0.3));\n",
              "      fill: #FFFFFF;\n",
              "    }\n",
              "  </style>\n",
              "\n",
              "      <script>\n",
              "        const buttonEl =\n",
              "          document.querySelector('#df-723af6a5-badc-4c4b-a24a-4c93c56b02dd button.colab-df-convert');\n",
              "        buttonEl.style.display =\n",
              "          google.colab.kernel.accessAllowed ? 'block' : 'none';\n",
              "\n",
              "        async function convertToInteractive(key) {\n",
              "          const element = document.querySelector('#df-723af6a5-badc-4c4b-a24a-4c93c56b02dd');\n",
              "          const dataTable =\n",
              "            await google.colab.kernel.invokeFunction('convertToInteractive',\n",
              "                                                     [key], {});\n",
              "          if (!dataTable) return;\n",
              "\n",
              "          const docLinkHtml = 'Like what you see? Visit the ' +\n",
              "            '<a target=\"_blank\" href=https://colab.research.google.com/notebooks/data_table.ipynb>data table notebook</a>'\n",
              "            + ' to learn more about interactive tables.';\n",
              "          element.innerHTML = '';\n",
              "          dataTable['output_type'] = 'display_data';\n",
              "          await google.colab.output.renderOutput(dataTable, element);\n",
              "          const docLink = document.createElement('div');\n",
              "          docLink.innerHTML = docLinkHtml;\n",
              "          element.appendChild(docLink);\n",
              "        }\n",
              "      </script>\n",
              "    </div>\n",
              "  </div>\n",
              "  "
            ]
          },
          "metadata": {},
          "execution_count": 8
        }
      ]
    },
    {
      "cell_type": "code",
      "source": [
        "# Split our preprocessed data into our features and target arrays\n",
        "X = application_df.drop('IS_SUCCESSFUL', axis = 1).values\n",
        "y = application_df['IS_SUCCESSFUL'].values\n",
        "\n",
        "# Split the preprocessed data into a training and testing dataset\n",
        "X_train, X_test, y_train, y_test = train_test_split(X, y, random_state = 42)"
      ],
      "metadata": {
        "id": "d_yRUaqoQCuY"
      },
      "execution_count": null,
      "outputs": []
    },
    {
      "cell_type": "code",
      "source": [
        "# Create a StandardScaler instances\n",
        "scaler = StandardScaler()\n",
        "\n",
        "# Fit the StandardScaler\n",
        "X_scaler = scaler.fit(X_train)\n",
        "\n",
        "# Scale the data\n",
        "X_train_scaled = X_scaler.transform(X_train)\n",
        "X_test_scaled = X_scaler.transform(X_test)"
      ],
      "metadata": {
        "id": "1GiqpTikQGrj"
      },
      "execution_count": null,
      "outputs": []
    },
    {
      "cell_type": "code",
      "source": [
        "# Define the model - deep neural net, i.e., the number of input features and hidden nodes for each layer.\n",
        "input_features = len(X_train_scaled[0])\n",
        "hidden_layer1 = 7\n",
        "hidden_layer2 = 14\n",
        "hidden_layer3 = 21\n",
        "\n",
        "nn5 = tf.keras.models.Sequential()\n",
        "\n",
        "# First hidden layer\n",
        "nn5.add(tf.keras.layers.Dense(units = hidden_layer1, input_dim = input_features, activation = 'relu'))\n",
        "\n",
        "# Second hidden layer\n",
        "nn5.add(tf.keras.layers.Dense(units = hidden_layer2, activation = 'relu'))\n",
        "\n",
        "# Output layer\n",
        "nn5.add(tf.keras.layers.Dense(units=1, activation = \"sigmoid\"))\n",
        "\n",
        "# Check the structure of the model\n",
        "nn5.summary()"
      ],
      "metadata": {
        "id": "AvL0YGAZQKqa",
        "colab": {
          "base_uri": "https://localhost:8080/"
        },
        "outputId": "60873878-1a61-4d5b-f8af-9e631d984ab7"
      },
      "execution_count": null,
      "outputs": [
        {
          "output_type": "stream",
          "name": "stdout",
          "text": [
            "Model: \"sequential\"\n",
            "_________________________________________________________________\n",
            " Layer (type)                Output Shape              Param #   \n",
            "=================================================================\n",
            " dense (Dense)               (None, 7)                 434       \n",
            "                                                                 \n",
            " dense_1 (Dense)             (None, 14)                112       \n",
            "                                                                 \n",
            " dense_2 (Dense)             (None, 1)                 15        \n",
            "                                                                 \n",
            "=================================================================\n",
            "Total params: 561\n",
            "Trainable params: 561\n",
            "Non-trainable params: 0\n",
            "_________________________________________________________________\n"
          ]
        }
      ]
    },
    {
      "cell_type": "code",
      "source": [
        "# Compile the model\n",
        "nn5.compile(loss = 'binary_crossentropy', optimizer = 'adam', metrics=['accuracy'])"
      ],
      "metadata": {
        "id": "ekZ8g4_5QNcN"
      },
      "execution_count": null,
      "outputs": []
    },
    {
      "cell_type": "code",
      "source": [
        "# Train the model\n",
        "fit_model = nn5.fit(X_train_scaled, y_train, validation_split = 0.15, epochs = 75)"
      ],
      "metadata": {
        "id": "h4P6E5vcQStY",
        "colab": {
          "base_uri": "https://localhost:8080/"
        },
        "outputId": "47d7e561-98b6-4873-e4d9-f0fc1383f9a6"
      },
      "execution_count": null,
      "outputs": [
        {
          "output_type": "stream",
          "name": "stdout",
          "text": [
            "Epoch 1/75\n",
            "684/684 [==============================] - 2s 3ms/step - loss: 0.5340 - accuracy: 0.7319 - val_loss: 0.5340 - val_accuracy: 0.7362\n",
            "Epoch 2/75\n",
            "684/684 [==============================] - 2s 3ms/step - loss: 0.5335 - accuracy: 0.7324 - val_loss: 0.5337 - val_accuracy: 0.7375\n",
            "Epoch 3/75\n",
            "684/684 [==============================] - 3s 5ms/step - loss: 0.5336 - accuracy: 0.7324 - val_loss: 0.5360 - val_accuracy: 0.7370\n",
            "Epoch 4/75\n",
            "684/684 [==============================] - 2s 3ms/step - loss: 0.5337 - accuracy: 0.7319 - val_loss: 0.5337 - val_accuracy: 0.7354\n",
            "Epoch 5/75\n",
            "684/684 [==============================] - 2s 3ms/step - loss: 0.5333 - accuracy: 0.7324 - val_loss: 0.5341 - val_accuracy: 0.7375\n",
            "Epoch 6/75\n",
            "684/684 [==============================] - 2s 3ms/step - loss: 0.5330 - accuracy: 0.7330 - val_loss: 0.5344 - val_accuracy: 0.7365\n",
            "Epoch 7/75\n",
            "684/684 [==============================] - 2s 3ms/step - loss: 0.5328 - accuracy: 0.7318 - val_loss: 0.5341 - val_accuracy: 0.7372\n",
            "Epoch 8/75\n",
            "684/684 [==============================] - 3s 4ms/step - loss: 0.5327 - accuracy: 0.7321 - val_loss: 0.5362 - val_accuracy: 0.7372\n",
            "Epoch 9/75\n",
            "684/684 [==============================] - 2s 3ms/step - loss: 0.5329 - accuracy: 0.7324 - val_loss: 0.5342 - val_accuracy: 0.7385\n",
            "Epoch 10/75\n",
            "684/684 [==============================] - 2s 3ms/step - loss: 0.5328 - accuracy: 0.7328 - val_loss: 0.5341 - val_accuracy: 0.7359\n",
            "Epoch 11/75\n",
            "684/684 [==============================] - 2s 3ms/step - loss: 0.5325 - accuracy: 0.7316 - val_loss: 0.5365 - val_accuracy: 0.7362\n",
            "Epoch 12/75\n",
            "684/684 [==============================] - 2s 3ms/step - loss: 0.5327 - accuracy: 0.7333 - val_loss: 0.5339 - val_accuracy: 0.7383\n",
            "Epoch 13/75\n",
            "684/684 [==============================] - 2s 3ms/step - loss: 0.5324 - accuracy: 0.7327 - val_loss: 0.5340 - val_accuracy: 0.7370\n",
            "Epoch 14/75\n",
            "684/684 [==============================] - 4s 6ms/step - loss: 0.5323 - accuracy: 0.7317 - val_loss: 0.5335 - val_accuracy: 0.7359\n",
            "Epoch 15/75\n",
            "684/684 [==============================] - 2s 3ms/step - loss: 0.5319 - accuracy: 0.7333 - val_loss: 0.5343 - val_accuracy: 0.7375\n",
            "Epoch 16/75\n",
            "684/684 [==============================] - 2s 3ms/step - loss: 0.5321 - accuracy: 0.7319 - val_loss: 0.5329 - val_accuracy: 0.7362\n",
            "Epoch 17/75\n",
            "684/684 [==============================] - 2s 3ms/step - loss: 0.5320 - accuracy: 0.7320 - val_loss: 0.5360 - val_accuracy: 0.7349\n",
            "Epoch 18/75\n",
            "684/684 [==============================] - 2s 3ms/step - loss: 0.5321 - accuracy: 0.7329 - val_loss: 0.5336 - val_accuracy: 0.7352\n",
            "Epoch 19/75\n",
            "684/684 [==============================] - 3s 4ms/step - loss: 0.5318 - accuracy: 0.7318 - val_loss: 0.5351 - val_accuracy: 0.7357\n",
            "Epoch 20/75\n",
            "684/684 [==============================] - 2s 3ms/step - loss: 0.5316 - accuracy: 0.7333 - val_loss: 0.5331 - val_accuracy: 0.7367\n",
            "Epoch 21/75\n",
            "684/684 [==============================] - 2s 3ms/step - loss: 0.5318 - accuracy: 0.7319 - val_loss: 0.5343 - val_accuracy: 0.7388\n",
            "Epoch 22/75\n",
            "684/684 [==============================] - 2s 3ms/step - loss: 0.5315 - accuracy: 0.7322 - val_loss: 0.5350 - val_accuracy: 0.7380\n",
            "Epoch 23/75\n",
            "684/684 [==============================] - 10s 15ms/step - loss: 0.5317 - accuracy: 0.7321 - val_loss: 0.5336 - val_accuracy: 0.7380\n",
            "Epoch 24/75\n",
            "684/684 [==============================] - 3s 4ms/step - loss: 0.5315 - accuracy: 0.7334 - val_loss: 0.5347 - val_accuracy: 0.7385\n",
            "Epoch 25/75\n",
            "684/684 [==============================] - 2s 3ms/step - loss: 0.5313 - accuracy: 0.7316 - val_loss: 0.5350 - val_accuracy: 0.7344\n",
            "Epoch 26/75\n",
            "684/684 [==============================] - 2s 3ms/step - loss: 0.5315 - accuracy: 0.7337 - val_loss: 0.5342 - val_accuracy: 0.7367\n",
            "Epoch 27/75\n",
            "684/684 [==============================] - 3s 5ms/step - loss: 0.5314 - accuracy: 0.7331 - val_loss: 0.5338 - val_accuracy: 0.7380\n",
            "Epoch 28/75\n",
            "684/684 [==============================] - 2s 3ms/step - loss: 0.5316 - accuracy: 0.7331 - val_loss: 0.5347 - val_accuracy: 0.7365\n",
            "Epoch 29/75\n",
            "684/684 [==============================] - 2s 3ms/step - loss: 0.5314 - accuracy: 0.7330 - val_loss: 0.5358 - val_accuracy: 0.7367\n",
            "Epoch 30/75\n",
            "684/684 [==============================] - 2s 3ms/step - loss: 0.5310 - accuracy: 0.7330 - val_loss: 0.5339 - val_accuracy: 0.7365\n",
            "Epoch 31/75\n",
            "684/684 [==============================] - 2s 3ms/step - loss: 0.5314 - accuracy: 0.7338 - val_loss: 0.5342 - val_accuracy: 0.7362\n",
            "Epoch 32/75\n",
            "684/684 [==============================] - 2s 3ms/step - loss: 0.5313 - accuracy: 0.7333 - val_loss: 0.5388 - val_accuracy: 0.7359\n",
            "Epoch 33/75\n",
            "684/684 [==============================] - 3s 4ms/step - loss: 0.5313 - accuracy: 0.7333 - val_loss: 0.5343 - val_accuracy: 0.7365\n",
            "Epoch 34/75\n",
            "684/684 [==============================] - 2s 3ms/step - loss: 0.5311 - accuracy: 0.7336 - val_loss: 0.5348 - val_accuracy: 0.7385\n",
            "Epoch 35/75\n",
            "684/684 [==============================] - 2s 3ms/step - loss: 0.5310 - accuracy: 0.7314 - val_loss: 0.5342 - val_accuracy: 0.7383\n",
            "Epoch 36/75\n",
            "684/684 [==============================] - 2s 3ms/step - loss: 0.5314 - accuracy: 0.7328 - val_loss: 0.5345 - val_accuracy: 0.7367\n",
            "Epoch 37/75\n",
            "684/684 [==============================] - 2s 3ms/step - loss: 0.5308 - accuracy: 0.7338 - val_loss: 0.5339 - val_accuracy: 0.7398\n",
            "Epoch 38/75\n",
            "684/684 [==============================] - 3s 5ms/step - loss: 0.5313 - accuracy: 0.7322 - val_loss: 0.5344 - val_accuracy: 0.7362\n",
            "Epoch 39/75\n",
            "684/684 [==============================] - 2s 3ms/step - loss: 0.5311 - accuracy: 0.7335 - val_loss: 0.5345 - val_accuracy: 0.7336\n",
            "Epoch 40/75\n",
            "684/684 [==============================] - 2s 3ms/step - loss: 0.5308 - accuracy: 0.7335 - val_loss: 0.5335 - val_accuracy: 0.7385\n",
            "Epoch 41/75\n",
            "684/684 [==============================] - 2s 3ms/step - loss: 0.5307 - accuracy: 0.7322 - val_loss: 0.5347 - val_accuracy: 0.7383\n",
            "Epoch 42/75\n",
            "684/684 [==============================] - 2s 3ms/step - loss: 0.5307 - accuracy: 0.7326 - val_loss: 0.5346 - val_accuracy: 0.7372\n",
            "Epoch 43/75\n",
            "684/684 [==============================] - 2s 3ms/step - loss: 0.5310 - accuracy: 0.7330 - val_loss: 0.5347 - val_accuracy: 0.7380\n",
            "Epoch 44/75\n",
            "684/684 [==============================] - 3s 4ms/step - loss: 0.5308 - accuracy: 0.7324 - val_loss: 0.5336 - val_accuracy: 0.7352\n",
            "Epoch 45/75\n",
            "684/684 [==============================] - 2s 3ms/step - loss: 0.5306 - accuracy: 0.7332 - val_loss: 0.5337 - val_accuracy: 0.7378\n",
            "Epoch 46/75\n",
            "684/684 [==============================] - 2s 3ms/step - loss: 0.5305 - accuracy: 0.7321 - val_loss: 0.5359 - val_accuracy: 0.7336\n",
            "Epoch 47/75\n",
            "684/684 [==============================] - 2s 3ms/step - loss: 0.5308 - accuracy: 0.7333 - val_loss: 0.5355 - val_accuracy: 0.7357\n",
            "Epoch 48/75\n",
            "684/684 [==============================] - 2s 3ms/step - loss: 0.5309 - accuracy: 0.7330 - val_loss: 0.5343 - val_accuracy: 0.7354\n",
            "Epoch 49/75\n",
            "684/684 [==============================] - 3s 4ms/step - loss: 0.5305 - accuracy: 0.7340 - val_loss: 0.5334 - val_accuracy: 0.7365\n",
            "Epoch 50/75\n",
            "684/684 [==============================] - 2s 4ms/step - loss: 0.5306 - accuracy: 0.7335 - val_loss: 0.5348 - val_accuracy: 0.7328\n",
            "Epoch 51/75\n",
            "684/684 [==============================] - 2s 3ms/step - loss: 0.5305 - accuracy: 0.7331 - val_loss: 0.5342 - val_accuracy: 0.7370\n",
            "Epoch 52/75\n",
            "684/684 [==============================] - 2s 3ms/step - loss: 0.5303 - accuracy: 0.7319 - val_loss: 0.5361 - val_accuracy: 0.7367\n",
            "Epoch 53/75\n",
            "684/684 [==============================] - 2s 3ms/step - loss: 0.5306 - accuracy: 0.7314 - val_loss: 0.5336 - val_accuracy: 0.7370\n",
            "Epoch 54/75\n",
            "684/684 [==============================] - 2s 3ms/step - loss: 0.5303 - accuracy: 0.7334 - val_loss: 0.5350 - val_accuracy: 0.7375\n",
            "Epoch 55/75\n",
            "684/684 [==============================] - 3s 5ms/step - loss: 0.5306 - accuracy: 0.7329 - val_loss: 0.5336 - val_accuracy: 0.7388\n",
            "Epoch 56/75\n",
            "684/684 [==============================] - 2s 3ms/step - loss: 0.5302 - accuracy: 0.7316 - val_loss: 0.5333 - val_accuracy: 0.7362\n",
            "Epoch 57/75\n",
            "684/684 [==============================] - 2s 3ms/step - loss: 0.5302 - accuracy: 0.7331 - val_loss: 0.5339 - val_accuracy: 0.7391\n",
            "Epoch 58/75\n",
            "684/684 [==============================] - 2s 3ms/step - loss: 0.5300 - accuracy: 0.7337 - val_loss: 0.5358 - val_accuracy: 0.7375\n",
            "Epoch 59/75\n",
            "684/684 [==============================] - 2s 3ms/step - loss: 0.5302 - accuracy: 0.7338 - val_loss: 0.5345 - val_accuracy: 0.7372\n",
            "Epoch 60/75\n",
            "684/684 [==============================] - 3s 5ms/step - loss: 0.5303 - accuracy: 0.7334 - val_loss: 0.5324 - val_accuracy: 0.7372\n",
            "Epoch 61/75\n",
            "684/684 [==============================] - 2s 3ms/step - loss: 0.5303 - accuracy: 0.7335 - val_loss: 0.5340 - val_accuracy: 0.7383\n",
            "Epoch 62/75\n",
            "684/684 [==============================] - 2s 3ms/step - loss: 0.5302 - accuracy: 0.7339 - val_loss: 0.5336 - val_accuracy: 0.7378\n",
            "Epoch 63/75\n",
            "684/684 [==============================] - 2s 3ms/step - loss: 0.5302 - accuracy: 0.7328 - val_loss: 0.5330 - val_accuracy: 0.7354\n",
            "Epoch 64/75\n",
            "684/684 [==============================] - 4s 5ms/step - loss: 0.5301 - accuracy: 0.7336 - val_loss: 0.5333 - val_accuracy: 0.7372\n",
            "Epoch 65/75\n",
            "684/684 [==============================] - 3s 4ms/step - loss: 0.5296 - accuracy: 0.7324 - val_loss: 0.5340 - val_accuracy: 0.7367\n",
            "Epoch 66/75\n",
            "684/684 [==============================] - 2s 3ms/step - loss: 0.5302 - accuracy: 0.7332 - val_loss: 0.5341 - val_accuracy: 0.7365\n",
            "Epoch 67/75\n",
            "684/684 [==============================] - 2s 3ms/step - loss: 0.5298 - accuracy: 0.7345 - val_loss: 0.5340 - val_accuracy: 0.7372\n",
            "Epoch 68/75\n",
            "684/684 [==============================] - 2s 3ms/step - loss: 0.5298 - accuracy: 0.7340 - val_loss: 0.5328 - val_accuracy: 0.7393\n",
            "Epoch 69/75\n",
            "684/684 [==============================] - 2s 3ms/step - loss: 0.5294 - accuracy: 0.7326 - val_loss: 0.5329 - val_accuracy: 0.7378\n",
            "Epoch 70/75\n",
            "684/684 [==============================] - 3s 4ms/step - loss: 0.5295 - accuracy: 0.7342 - val_loss: 0.5346 - val_accuracy: 0.7328\n",
            "Epoch 71/75\n",
            "684/684 [==============================] - 3s 4ms/step - loss: 0.5295 - accuracy: 0.7331 - val_loss: 0.5328 - val_accuracy: 0.7375\n",
            "Epoch 72/75\n",
            "684/684 [==============================] - 2s 3ms/step - loss: 0.5297 - accuracy: 0.7338 - val_loss: 0.5339 - val_accuracy: 0.7391\n",
            "Epoch 73/75\n",
            "684/684 [==============================] - 2s 3ms/step - loss: 0.5298 - accuracy: 0.7332 - val_loss: 0.5336 - val_accuracy: 0.7370\n",
            "Epoch 74/75\n",
            "684/684 [==============================] - 2s 3ms/step - loss: 0.5298 - accuracy: 0.7335 - val_loss: 0.5335 - val_accuracy: 0.7398\n",
            "Epoch 75/75\n",
            "684/684 [==============================] - 2s 3ms/step - loss: 0.5297 - accuracy: 0.7334 - val_loss: 0.5334 - val_accuracy: 0.7367\n"
          ]
        }
      ]
    },
    {
      "cell_type": "code",
      "source": [
        "# Evaluate the model using the test data\n",
        "model_loss, model_accuracy = nn5.evaluate(X_test_scaled,y_test,verbose=2)\n",
        "print(f\"Loss: {model_loss}, Accuracy: {model_accuracy}\")"
      ],
      "metadata": {
        "id": "b8nNEVT5QV-f",
        "colab": {
          "base_uri": "https://localhost:8080/"
        },
        "outputId": "2b62d111-180c-4119-c17f-6f1f6f6a7289"
      },
      "execution_count": null,
      "outputs": [
        {
          "output_type": "stream",
          "name": "stdout",
          "text": [
            "268/268 - 1s - loss: 0.5416 - accuracy: 0.7312 - 506ms/epoch - 2ms/step\n",
            "Loss: 0.5415506958961487, Accuracy: 0.731195330619812\n"
          ]
        }
      ]
    },
    {
      "cell_type": "code",
      "source": [
        "# Plot the accuracy for easy visualization\n",
        "history5_df = pd.DataFrame(fit_model.history, index = range(1, len(fit_model.history['loss'])+1))\n",
        "history5_df.plot(y = 'accuracy')"
      ],
      "metadata": {
        "id": "2uYha2ljQYaL",
        "colab": {
          "base_uri": "https://localhost:8080/",
          "height": 282
        },
        "outputId": "092815aa-af2a-4e0f-e9fb-8d34cba065c3"
      },
      "execution_count": null,
      "outputs": [
        {
          "output_type": "execute_result",
          "data": {
            "text/plain": [
              "<AxesSubplot:>"
            ]
          },
          "metadata": {},
          "execution_count": 17
        },
        {
          "output_type": "display_data",
          "data": {
            "text/plain": [
              "<Figure size 432x288 with 1 Axes>"
            ],
            "image/png": "[encoded data removed]"
          },
          "metadata": {
            "needs_background": "light"
          }
        }
      ]
    },
    {
      "cell_type": "code",
      "source": [
        "# Export our model to HDF5 file\n",
        "nn5.save('h5Files/AlphabetSoupCharity5.h5')"
      ],
      "metadata": {
        "id": "Za7AQa6QQZ3T"
      },
      "execution_count": null,
      "outputs": []
    }
  ],
  "metadata": {
    "kernelspec": {
      "display_name": "Python 3",
      "language": "python",
      "name": "python3"
    },
    "language_info": {
      "codemirror_mode": {
        "name": "ipython",
        "version": 3
      },
      "file_extension": ".py",
      "mimetype": "text/x-python",
      "name": "python",
      "nbconvert_exporter": "python",
      "pygments_lexer": "ipython3",
      "version": "3.7.6"
    },
    "colab": {
      "provenance": [],
      "include_colab_link": true
    }
  },
  "nbformat": 4,
  "nbformat_minor": 0
}